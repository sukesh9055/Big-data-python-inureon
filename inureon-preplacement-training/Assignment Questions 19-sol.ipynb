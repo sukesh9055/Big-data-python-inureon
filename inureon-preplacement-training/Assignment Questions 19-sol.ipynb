{
 "cells": [
  {
   "cell_type": "markdown",
   "id": "90f8e441",
   "metadata": {},
   "source": [
    "<aside>\n",
    "💡 1. **Merge k Sorted Lists**\n",
    "\n",
    "You are given an array of `k` linked-lists `lists`, each linked-list is sorted in ascending order.\n",
    "\n",
    "*Merge all the linked-lists into one sorted linked-list and return it.*\n",
    "\n",
    "</aside>"
   ]
  },
  {
   "cell_type": "code",
   "execution_count": 1,
   "id": "b687a3a0",
   "metadata": {},
   "outputs": [],
   "source": [
    "class Node:\n",
    "  \n",
    "    def __init__(self):\n",
    "  \n",
    "        self.data = 0\n",
    "        self.next = None\n",
    "\n",
    "def printList(node):\n",
    "  \n",
    "    while (node != None):\n",
    "        print(node.data, end=' ')\n",
    "        node = node.next\n",
    "\n",
    "def SortedMerge(a, b):\n",
    "  \n",
    "    result = None\n",
    "  \n",
    "    # Base cases\n",
    "    if (a == None):\n",
    "        return(b)\n",
    "    elif (b == None):\n",
    "        return(a)\n",
    "  \n",
    "    # Pick either a or b, and recur\n",
    "    if (a.data <= b.data):\n",
    "        result = a\n",
    "        result.next = SortedMerge(a.next, b)\n",
    "    else:\n",
    "        result = b\n",
    "        result.next = SortedMerge(a, b.next)\n",
    "  \n",
    "    return result\n",
    "\n",
    "def mergeKLists(arr, last):\n",
    "\n",
    "    while (last != 0):\n",
    "        i = 0\n",
    "        j = last\n",
    "\n",
    "        while (i < j):\n",
    "\n",
    "            arr[i] = SortedMerge(arr[i], arr[j])\n",
    "\n",
    "            i += 1\n",
    "            j -= 1\n",
    "\n",
    "            if (i >= j):\n",
    "                last = j\n",
    "  \n",
    "    return arr[0]\n",
    "\n",
    "def newNode(data):\n",
    "  \n",
    "    temp = Node()\n",
    "    temp.data = data\n",
    "    temp.next = None\n",
    "    return temp\n"
   ]
  },
  {
   "cell_type": "code",
   "execution_count": 3,
   "id": "3f53110c",
   "metadata": {},
   "outputs": [
    {
     "name": "stdout",
     "output_type": "stream",
     "text": [
      "0 1 2 3 4 5 6 7 8 9 10 11 "
     ]
    }
   ],
   "source": [
    "k = 3\n",
    "\n",
    "n = 4\n",
    "\n",
    "arr = [0 for i in range(k)]\n",
    "  \n",
    "arr[0] = newNode(1)\n",
    "arr[0].next = newNode(3)\n",
    "arr[0].next.next = newNode(5)\n",
    "arr[0].next.next.next = newNode(7)\n",
    "  \n",
    "arr[1] = newNode(2)\n",
    "arr[1].next = newNode(4)\n",
    "arr[1].next.next = newNode(6)\n",
    "arr[1].next.next.next = newNode(8)\n",
    "  \n",
    "arr[2] = newNode(0)\n",
    "arr[2].next = newNode(9)\n",
    "arr[2].next.next = newNode(10)\n",
    "arr[2].next.next.next = newNode(11)\n",
    "\n",
    "head = mergeKLists(arr, k - 1)\n",
    "  \n",
    "printList(head)"
   ]
  },
  {
   "cell_type": "markdown",
   "id": "14b1edf1",
   "metadata": {},
   "source": [
    "<aside>\n",
    "💡 2. **Count of Smaller Numbers After Self**\n",
    "\n",
    "Given an integer array `nums`, return *an integer array* `counts` *where* `counts[i]` *is the number of smaller elements to the right of* `nums[i]`.\n",
    "\n",
    "</aside>mm"
   ]
  },
  {
   "cell_type": "code",
   "execution_count": 5,
   "id": "f4fc7a4f",
   "metadata": {},
   "outputs": [
    {
     "name": "stdout",
     "output_type": "stream",
     "text": [
      "6 1 1 1 0 1 0 \n"
     ]
    }
   ],
   "source": [
    "def constructLowerArray(arr, countSmaller, n):\n",
    "\n",
    "    for i in range(n):\n",
    "        countSmaller[i] = 0\n",
    " \n",
    "    for i in range(n):\n",
    "        for j in range(i + 1, n):\n",
    "            if (arr[j] < arr[i]):\n",
    "                countSmaller[i] += 1\n",
    "\n",
    "def printArray(arr, size):\n",
    "    for i in range(size):\n",
    "        print(arr[i], end=\" \")\n",
    "    print()\n",
    "\n",
    "arr = [12, 1, 2, 3, 0, 11, 4]\n",
    "n = len(arr)\n",
    "low = [0]*n\n",
    "constructLowerArray(arr, low, n)\n",
    "printArray(low, n)"
   ]
  },
  {
   "cell_type": "markdown",
   "id": "2c362477",
   "metadata": {},
   "source": [
    "<aside>\n",
    "💡 3. **Sort an Array**\n",
    "\n",
    "Given an array of integers `nums`, sort the array in ascending order and return it.\n",
    "\n",
    "You must solve the problem **without using any built-in** functions in `O(nlog(n))` time complexity and with the smallest space complexity possible.\n",
    "\n",
    "</aside>"
   ]
  },
  {
   "cell_type": "code",
   "execution_count": 24,
   "id": "be822fd8",
   "metadata": {},
   "outputs": [],
   "source": [
    "class Solution:\n",
    "  def sortArray(self, nums: list[int]) -> list[int]:\n",
    "    def heapSort(A: list[int]) -> None:\n",
    "      def maxHeapify(A: list[int], i: int, heapSize: int) -> None:\n",
    "        l = 2 * i + 1\n",
    "        r = 2 * i + 2\n",
    "        largest = i\n",
    "        if l < heapSize and A[largest] < A[l]:\n",
    "          largest = l\n",
    "        if r < heapSize and A[largest] < A[r]:\n",
    "          largest = r\n",
    "        if largest != i:\n",
    "          A[largest], A[i] = A[i], A[largest]\n",
    "          maxHeapify(A, largest, heapSize)\n",
    "\n",
    "      def buildMaxHeap(A: List[int]) -> None:\n",
    "        for i in range(len(A) // 2, -1, -1):\n",
    "          maxHeapify(A, i, len(A))\n",
    "\n",
    "      buildMaxHeap(A)\n",
    "      heapSize = len(A)\n",
    "      for i in reversed(range(1, len(A))):\n",
    "        A[i], A[0] = A[0], A[i]\n",
    "        heapSize -= 1\n",
    "        maxHeapify(A, 0, heapSize)\n",
    "\n",
    "    heapSort(nums)\n",
    "    return nums\n"
   ]
  },
  {
   "cell_type": "markdown",
   "id": "dc9ad783",
   "metadata": {},
   "source": [
    "<aside>\n",
    "💡 4. **Move all zeroes to end of array**\n",
    "\n",
    "Given an array of random numbers, Push all the zero’s of a given array to the end of the array. For example, if the given arrays is {1, 9, 8, 4, 0, 0, 2, 7, 0, 6, 0}, it should be changed to {1, 9, 8, 4, 2, 7, 6, 0, 0, 0, 0}. The order of all other elements should be same. Expected time complexity is O(n) and extra space is O(1).\n",
    "\n",
    "</aside>"
   ]
  },
  {
   "cell_type": "code",
   "execution_count": 25,
   "id": "536eb975",
   "metadata": {},
   "outputs": [
    {
     "name": "stdout",
     "output_type": "stream",
     "text": [
      "Array after pushing all zeros to end of array:\n",
      "[1, 9, 8, 4, 2, 7, 6, 9, 0, 0, 0, 0]\n"
     ]
    }
   ],
   "source": [
    "def pushZerosToEnd(arr, n):\n",
    "    count = 0\n",
    "\n",
    "    for i in range(n):\n",
    "        if arr[i] != 0:\n",
    "\n",
    "            arr[count] = arr[i]\n",
    "            count+=1\n",
    "\n",
    "    while count < n:\n",
    "        arr[count] = 0\n",
    "        count += 1\n",
    "\n",
    "arr = [1, 9, 8, 4, 0, 0, 2, 7, 0, 6, 0, 9]\n",
    "n = len(arr)\n",
    "pushZerosToEnd(arr, n)\n",
    "print(\"Array after pushing all zeros to end of array:\")\n",
    "print(arr)"
   ]
  },
  {
   "cell_type": "markdown",
   "id": "cfdf26ab",
   "metadata": {},
   "source": [
    "<aside>\n",
    "💡 5. **Rearrange array in alternating positive & negative items with O(1) extra space**\n",
    "\n",
    "Given an **array of positive** and **negative numbers**, arrange them in an **alternate** fashion such that every positive number is followed by a negative and vice-versa maintaining the **order of appearance**. The number of positive and negative numbers need not be equal. If there are more positive numbers they appear at the end of the array. If there are more negative numbers, they too appear at the end of the array.\n",
    "\n",
    "</aside>"
   ]
  },
  {
   "cell_type": "code",
   "execution_count": 26,
   "id": "175e977a",
   "metadata": {},
   "outputs": [
    {
     "name": "stdout",
     "output_type": "stream",
     "text": [
      "Given Array is:\n",
      "[-5, -2, 5, 2, 4, 7, 1, 8, 0, -8]\n",
      "\n",
      "Rearranged array is:\n",
      "[-5, 5, -2, 2, -8, 4, 7, 1, 8, 0]\n"
     ]
    }
   ],
   "source": [
    "def rightRotate(arr, n, outOfPlace, cur):\n",
    "    temp = arr[cur]\n",
    "    for i in range(cur, outOfPlace, -1):\n",
    "        arr[i] = arr[i - 1]\n",
    "    arr[outOfPlace] = temp\n",
    "    return arr\n",
    " \n",
    " \n",
    "def rearrange(arr, n):\n",
    "    outOfPlace = -1\n",
    "    for index in range(n):\n",
    "        if(outOfPlace >= 0):\n",
    "\n",
    "            if((arr[index] >= 0 and arr[outOfPlace] < 0) or\n",
    "               (arr[index] < 0 and arr[outOfPlace] >= 0)):\n",
    "                arr = rightRotate(arr, n, outOfPlace, index)\n",
    "                if(index-outOfPlace > 2):\n",
    "                    outOfPlace += 2\n",
    "                else:\n",
    "                    outOfPlace = - 1\n",
    " \n",
    "        if(outOfPlace == -1):\n",
    "\n",
    "            if((arr[index] >= 0 and index % 2 == 0) or\n",
    "               (arr[index] < 0 and index % 2 == 1)):\n",
    "                outOfPlace = index\n",
    "    return arr\n",
    " \n",
    "\n",
    "arr = [-5, -2, 5, 2, 4,\n",
    "       7, 1, 8, 0, -8]\n",
    " \n",
    "print(\"Given Array is:\")\n",
    "print(arr)\n",
    " \n",
    "print(\"\\nRearranged array is:\")\n",
    "print(rearrange(arr, len(arr)))"
   ]
  },
  {
   "cell_type": "markdown",
   "id": "9043091c",
   "metadata": {},
   "source": [
    "<aside>\n",
    "💡 **6. Merge two sorted arrays**\n",
    "\n",
    "Given two sorted arrays, the task is to merge them in a sorted manner.\n",
    "\n",
    "</aside>"
   ]
  },
  {
   "cell_type": "code",
   "execution_count": 28,
   "id": "961a43d4",
   "metadata": {},
   "outputs": [
    {
     "name": "stdout",
     "output_type": "stream",
     "text": [
      "Array after merging\n",
      "1 2 3 4 5 6 7 8 "
     ]
    }
   ],
   "source": [
    "def mergeArrays(arr1, arr2, n1, n2, arr3):\n",
    "    i = 0\n",
    "    j = 0\n",
    "    k = 0\n",
    "\n",
    "    while(i < n1):\n",
    "        arr3[k] = arr1[i]\n",
    "        k += 1\n",
    "        i += 1\n",
    "\n",
    "    while(j < n2):\n",
    "        arr3[k] = arr2[j]\n",
    "        k += 1\n",
    "        j += 1\n",
    "\n",
    "    arr3.sort()\n",
    "\n",
    "if __name__ == '__main__':\n",
    "    arr1 = [1, 3, 5, 7]\n",
    "    n1 = len(arr1)\n",
    " \n",
    "    arr2 = [2, 4, 6, 8]\n",
    "    n2 = len(arr2)\n",
    " \n",
    "    arr3 = [0 for i in range(n1+n2)]\n",
    "    mergeArrays(arr1, arr2, n1, n2, arr3)\n",
    " \n",
    "    print(\"Array after merging\")\n",
    "    for i in range(n1 + n2):\n",
    "        print(arr3[i], end=\" \")"
   ]
  },
  {
   "cell_type": "markdown",
   "id": "f3493ccd",
   "metadata": {},
   "source": [
    "<aside>\n",
    "💡 7. **Intersection of Two Arrays**\n",
    "\n",
    "Given two integer arrays `nums1` and `nums2`, return *an array of their intersection*. Each element in the result must be **unique** and you may return the result in **any order**.\n",
    "\n",
    "</aside>"
   ]
  },
  {
   "cell_type": "code",
   "execution_count": 29,
   "id": "b2049674",
   "metadata": {},
   "outputs": [
    {
     "name": "stdout",
     "output_type": "stream",
     "text": [
      "Number of elements after union operation:  9 \n",
      "The union set of both arrays is :\n",
      "{1, 2, 3, 4, 5, 6, 7, 8, 9}"
     ]
    }
   ],
   "source": [
    "def getUnion(a, n, b, m):\n",
    "\n",
    "    s = set()\n",
    "\n",
    "    for i in range(n):\n",
    "        s.add(a[i])\n",
    " \n",
    "    for i in range(m):\n",
    "        s.add(b[i])\n",
    "    print(\"Number of elements after union operation: \", len(s), \"\")\n",
    "    print(\"The union set of both arrays is :\" + \"\")\n",
    " \n",
    "    print(s, end=\"\") \n",
    "\n",
    "if __name__ == '__main__':\n",
    "    a = [1, 2, 5, 6, 2, 3, 5, 7, 3]\n",
    "    b = [2, 4, 5, 6, 8, 9, 4, 6, 5, 4]\n",
    " \n",
    "    getUnion(a, 9, b, 10)"
   ]
  },
  {
   "cell_type": "markdown",
   "id": "81038227",
   "metadata": {},
   "source": [
    "<aside>\n",
    "💡 8. **Intersection of Two Arrays II**\n",
    "\n",
    "Given two integer arrays `nums1` and `nums2`, return *an array of their intersection*. Each element in the result must appear as many times as it shows in both arrays and you may return the result in **any order**.\n",
    "\n",
    "</aside>"
   ]
  },
  {
   "cell_type": "code",
   "execution_count": null,
   "id": "4a6d91de",
   "metadata": {},
   "outputs": [],
   "source": []
  }
 ],
 "metadata": {
  "kernelspec": {
   "display_name": "Python 3 (ipykernel)",
   "language": "python",
   "name": "python3"
  },
  "language_info": {
   "codemirror_mode": {
    "name": "ipython",
    "version": 3
   },
   "file_extension": ".py",
   "mimetype": "text/x-python",
   "name": "python",
   "nbconvert_exporter": "python",
   "pygments_lexer": "ipython3",
   "version": "3.9.13"
  }
 },
 "nbformat": 4,
 "nbformat_minor": 5
}
