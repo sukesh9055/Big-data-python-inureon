{
 "cells": [
  {
   "cell_type": "markdown",
   "id": "64227b12",
   "metadata": {},
   "source": [
    "<aside>\n",
    "💡 **Question 1**\n",
    "\n",
    "Given a string `s`, *find the first non-repeating character in it and return its index*. If it does not exist, return `-1`.\n",
    "\n",
    "</aside>"
   ]
  },
  {
   "cell_type": "code",
   "execution_count": 3,
   "id": "4f63d4b0",
   "metadata": {},
   "outputs": [
    {
     "name": "stdout",
     "output_type": "stream",
     "text": [
      "l\n"
     ]
    }
   ],
   "source": [
    "from collections import Counter\n",
    "\n",
    "def repeatFunc(myStr):\n",
    "\n",
    "    freq = Counter(myStr)\n",
    "\n",
    "\n",
    "    for i in myStr:\n",
    "        if(freq[i] == 1):\n",
    "            print(i)\n",
    "            break\n",
    "\n",
    "myStr = \"leetcode\"\n",
    "\n",
    "repeatFunc(myStr)"
   ]
  },
  {
   "cell_type": "markdown",
   "id": "a026c2ac",
   "metadata": {},
   "source": [
    "<aside>\n",
    "💡 **Question 2**\n",
    "\n",
    "Given a **circular integer array** `nums` of length `n`, return *the maximum possible sum of a non-empty **subarray** of* `nums`.\n",
    "\n",
    "A **circular array** means the end of the array connects to the beginning of the array. Formally, the next element of `nums[i]` is `nums[(i + 1) % n]` and the previous element of `nums[i]` is `nums[(i - 1 + n) % n]`.\n",
    "\n",
    "A **subarray** may only include each element of the fixed buffer `nums` at most once. Formally, for a subarray `nums[i], nums[i + 1], ..., nums[j]`, there does not exist `i <= k1`, `k2 <= j` with `k1 % n == k2 % n`.\n",
    "\n",
    "</aside>"
   ]
  },
  {
   "cell_type": "code",
   "execution_count": 4,
   "id": "e5f03663",
   "metadata": {},
   "outputs": [
    {
     "name": "stdout",
     "output_type": "stream",
     "text": [
      "Maximum circular sum is 31\n"
     ]
    }
   ],
   "source": [
    "def maxCircularSum(a, n):\n",
    "\n",
    "    if (n == 1):\n",
    "        return a[0]\n",
    "\n",
    "    sum = 0\n",
    "    for i in range(n):\n",
    "        sum += a[i]\n",
    "\n",
    "    curr_max = a[0]\n",
    "    max_so_far = a[0]\n",
    "    curr_min = a[0]\n",
    "    min_so_far = a[0]\n",
    "\n",
    "    for i in range(1, n):\n",
    "       \n",
    "\n",
    "        curr_max = max(curr_max + a[i], a[i])\n",
    "        max_so_far = max(max_so_far, curr_max)\n",
    " \n",
    "\n",
    "        curr_min = min(curr_min + a[i], a[i])\n",
    "        min_so_far = min(min_so_far, curr_min)\n",
    "    if (min_so_far == sum):\n",
    "        return max_so_far\n",
    " \n",
    "\n",
    "    return max(max_so_far, sum - min_so_far)\n",
    " \n",
    "\n",
    "a = [11, 10, -20, 5, -3, -5, 8, -13, 10]\n",
    "n = len(a)\n",
    "print(\"Maximum circular sum is\", maxCircularSum(a, n))"
   ]
  },
  {
   "cell_type": "markdown",
   "id": "8c1ed372",
   "metadata": {},
   "source": [
    "<aside>\n",
    "💡 **Question 3**\n",
    "\n",
    "The school cafeteria offers circular and square sandwiches at lunch break, referred to by numbers `0` and `1` respectively. All students stand in a queue. Each student either prefers square or circular sandwiches.\n",
    "\n",
    "The number of sandwiches in the cafeteria is equal to the number of students. The sandwiches are placed in a **stack**. At each step:\n",
    "\n",
    "- If the student at the front of the queue **prefers** the sandwich on the top of the stack, they will **take it** and leave the queue.\n",
    "- Otherwise, they will **leave it** and go to the queue's end.\n",
    "\n",
    "This continues until none of the queue students want to take the top sandwich and are thus unable to eat.\n",
    "\n",
    "You are given two integer arrays `students` and `sandwiches` where `sandwiches[i]` is the type of the `ith` sandwich in the stack (`i = 0` is the top of the stack) and `students[j]` is the preference of the `jth` student in the initial queue (`j = 0` is the front of the queue). Return *the number of students that are unable to eat.*\n",
    "\n",
    "</aside>"
   ]
  },
  {
   "cell_type": "code",
   "execution_count": 6,
   "id": "7888d806",
   "metadata": {},
   "outputs": [],
   "source": [
    "import collections\n",
    "\n",
    "\n",
    "class Solution(object):\n",
    "    def countStudents(students, sandwiches):\n",
    "\n",
    "        count = collections.Counter(students)\n",
    "        for i, s in enumerate(sandwiches):\n",
    "            if not count[s]:\n",
    "                break\n",
    "            count[s] -= 1\n",
    "        else:\n",
    "            i = len(sandwiches)\n",
    "        return len(sandwiches)-i"
   ]
  },
  {
   "cell_type": "markdown",
   "id": "32c0497f",
   "metadata": {},
   "source": [
    "<aside>\n",
    "💡 **Question 4**\n",
    "\n",
    "You have a `RecentCounter` class which counts the number of recent requests within a certain time frame.\n",
    "\n",
    "Implement the `RecentCounter` class:\n",
    "\n",
    "- `RecentCounter()` Initializes the counter with zero recent requests.\n",
    "- `int ping(int t)` Adds a new request at time `t`, where `t` represents some time in milliseconds, and returns the number of requests that has happened in the past `3000` milliseconds (including the new request). Specifically, return the number of requests that have happened in the inclusive range `[t - 3000, t]`.\n",
    "\n",
    "It is **guaranteed** that every call to `ping` uses a strictly larger value of `t` than the previous call.\n",
    "\n",
    "</aside>"
   ]
  },
  {
   "cell_type": "code",
   "execution_count": 7,
   "id": "4d21d15c",
   "metadata": {},
   "outputs": [],
   "source": [
    "class RecentCounter:\n",
    "    def __init__(self):\n",
    "        self.q = deque()\n",
    "\n",
    "    def ping(self, t: int) -> int:\n",
    "        self.q.append(t)\n",
    "        while self.q[0] < t - 3000:\n",
    "            self.q.popleft()\n",
    "        return len(self.q)"
   ]
  },
  {
   "cell_type": "markdown",
   "id": "46d2d143",
   "metadata": {},
   "source": [
    "<aside>\n",
    "💡 **Question 5**\n",
    "\n",
    "There are `n` friends that are playing a game. The friends are sitting in a circle and are numbered from `1` to `n` in **clockwise order**. More formally, moving clockwise from the `ith` friend brings you to the `(i+1)th` friend for `1 <= i < n`, and moving clockwise from the `nth` friend brings you to the `1st` friend.\n",
    "\n",
    "The rules of the game are as follows:\n",
    "\n",
    "1. **Start** at the `1st` friend.\n",
    "2. Count the next `k` friends in the clockwise direction **including** the friend you started at. The counting wraps around the circle and may count some friends more than once.\n",
    "3. The last friend you counted leaves the circle and loses the game.\n",
    "4. If there is still more than one friend in the circle, go back to step `2` **starting** from the friend **immediately clockwise** of the friend who just lost and repeat.\n",
    "5. Else, the last friend in the circle wins the game.\n",
    "\n",
    "Given the number of friends, `n`, and an integer `k`, return *the winner of the game*.\n",
    "\n",
    "</aside>"
   ]
  },
  {
   "cell_type": "code",
   "execution_count": 12,
   "id": "79a539a7",
   "metadata": {},
   "outputs": [],
   "source": [
    "def findTheWinner(n: int, k: int) -> int:\n",
    "        if n == 1:\n",
    "            return 1\n",
    "        ans = (k + findTheWinner(n - 1, k)) % n\n",
    "        return n if ans == 0 else ans\n"
   ]
  },
  {
   "cell_type": "code",
   "execution_count": 13,
   "id": "9c940db1",
   "metadata": {},
   "outputs": [
    {
     "data": {
      "text/plain": [
       "3"
      ]
     },
     "execution_count": 13,
     "metadata": {},
     "output_type": "execute_result"
    }
   ],
   "source": [
    "n = 5\n",
    "k = 2\n",
    "\n",
    "findTheWinner(n,k)"
   ]
  },
  {
   "cell_type": "markdown",
   "id": "62f98684",
   "metadata": {},
   "source": [
    "<aside>\n",
    "💡 **Question 6**\n",
    "\n",
    "You are given an integer array `deck`. There is a deck of cards where every card has a unique integer. The integer on the `ith` card is `deck[i]`.\n",
    "\n",
    "You can order the deck in any order you want. Initially, all the cards start face down (unrevealed) in one deck.\n",
    "\n",
    "You will do the following steps repeatedly until all cards are revealed:\n",
    "\n",
    "1. Take the top card of the deck, reveal it, and take it out of the deck.\n",
    "2. If there are still cards in the deck then put the next top card of the deck at the bottom of the deck.\n",
    "3. If there are still unrevealed cards, go back to step 1. Otherwise, stop.\n",
    "\n",
    "Return *an ordering of the deck that would reveal the cards in increasing order*.\n",
    "\n",
    "**Note** that the first entry in the answer is considered to be the top of the deck.\n",
    "\n",
    "</aside>"
   ]
  },
  {
   "cell_type": "code",
   "execution_count": 15,
   "id": "393c799c",
   "metadata": {},
   "outputs": [],
   "source": [
    "\n",
    "  def deckRevealedIncreasing(deck: list[int]) -> list[int]:\n",
    "    q = collections.deque()\n",
    "\n",
    "    for card in reversed(sorted(deck)):\n",
    "      q.rotate()\n",
    "      q.appendleft(card)\n",
    "\n",
    "    return list(q)"
   ]
  },
  {
   "cell_type": "code",
   "execution_count": 16,
   "id": "210145e8",
   "metadata": {},
   "outputs": [
    {
     "data": {
      "text/plain": [
       "[2, 13, 3, 11, 5, 17, 7]"
      ]
     },
     "execution_count": 16,
     "metadata": {},
     "output_type": "execute_result"
    }
   ],
   "source": [
    "deck = [17,13,11,2,3,5,7]\n",
    "deckRevealedIncreasing(deck)"
   ]
  },
  {
   "cell_type": "markdown",
   "id": "373cd2c8",
   "metadata": {},
   "source": [
    "<aside>\n",
    "💡 **Question 7**\n",
    "\n",
    "Design a queue that supports `push` and `pop` operations in the front, middle, and back.\n",
    "\n",
    "Implement the `FrontMiddleBack` class:\n",
    "\n",
    "- `FrontMiddleBack()` Initializes the queue.\n",
    "- `void pushFront(int val)` Adds `val` to the **front** of the queue.\n",
    "- `void pushMiddle(int val)` Adds `val` to the **middle** of the queue.\n",
    "- `void pushBack(int val)` Adds `val` to the **back** of the queue.\n",
    "- `int popFront()` Removes the **front** element of the queue and returns it. If the queue is empty, return `1`.\n",
    "- `int popMiddle()` Removes the **middle** element of the queue and returns it. If the queue is empty, return `1`.\n",
    "- `int popBack()` Removes the **back** element of the queue and returns it. If the queue is empty, return `1`.\n",
    "\n",
    "**Notice** that when there are **two** middle position choices, the operation is performed on the **frontmost** middle position choice. For example:\n",
    "\n",
    "- Pushing `6` into the middle of `[1, 2, 3, 4, 5]` results in `[1, 2, 6, 3, 4, 5]`.\n",
    "- Popping the middle from `[1, 2, 3, 4, 5, 6]` returns `3` and results in `[1, 2, 4, 5, 6]`.\n",
    "</aside>"
   ]
  },
  {
   "cell_type": "code",
   "execution_count": 17,
   "id": "1b5a6759",
   "metadata": {},
   "outputs": [],
   "source": [
    "import collections\n",
    "\n",
    "\n",
    "class FrontMiddleBackQueue(object):\n",
    "\n",
    "    def __init__(self):\n",
    "        self.__left, self.__right = collections.deque(), collections.deque()   \n",
    "\n",
    "    def pushFront(self, val):\n",
    "\n",
    "        self.__left.appendleft(val)\n",
    "        self.__balance()        \n",
    "\n",
    "    def pushMiddle(self, val):\n",
    "\n",
    "        if len(self.__left) > len(self.__right):\n",
    "            self.__right.appendleft(self.__left.pop())\n",
    "        self.__left.append(val)\n",
    "\n",
    "    def pushBack(self, val):\n",
    "\n",
    "        self.__right.append(val)\n",
    "        self.__balance()\n",
    "\n",
    "    def popFront(self):\n",
    "\n",
    "        val = (self.__left or collections.deque([-1])).popleft()\n",
    "        self.__balance()\n",
    "        return val\n",
    "\n",
    "    def popMiddle(self):\n",
    "\n",
    "        val = (self.__left or [-1]).pop()\n",
    "        self.__balance()\n",
    "        return val\n",
    "\n",
    "    def popBack(self):\n",
    "\n",
    "        val = (self.__right or self.__left or [-1]).pop()\n",
    "        self.__balance()\n",
    "        return val\n",
    "\n",
    "    def __balance(self):\n",
    "        if len(self.__left) > len(self.__right)+1:\n",
    "            self.__right.appendleft(self.__left.pop())\n",
    "        elif len(self.__left) < len(self.__right):\n",
    "            self.__left.append(self.__right.popleft())"
   ]
  },
  {
   "cell_type": "markdown",
   "id": "10b14507",
   "metadata": {},
   "source": [
    "<aside>\n",
    "💡 **Question 8**\n",
    "\n",
    "For a stream of integers, implement a data structure that checks if the last `k` integers parsed in the stream are **equal** to `value`.\n",
    "\n",
    "Implement the **DataStream** class:\n",
    "\n",
    "- `DataStream(int value, int k)` Initializes the object with an empty integer stream and the two integers `value` and `k`.\n",
    "- `boolean consec(int num)` Adds `num` to the stream of integers. Returns `true` if the last `k` integers are equal to `value`, and `false` otherwise. If there are less than `k` integers, the condition does not hold true, so returns `false`.\n",
    "</aside>"
   ]
  },
  {
   "cell_type": "code",
   "execution_count": 18,
   "id": "668c976b",
   "metadata": {},
   "outputs": [
    {
     "name": "stdout",
     "output_type": "stream",
     "text": [
      "Rank of 4 in stream is: 3\n",
      "Rank of 13 in stream is: 8\n",
      "Rank of 8 in stream is: -1\n"
     ]
    }
   ],
   "source": [
    "class newNode:\n",
    "    def __init__(self, data):\n",
    "        self.data = data\n",
    "        self.left = self.right = None\n",
    "        self.leftSize = 0\n",
    "\n",
    "def insert(root, data):\n",
    "    if root is None:\n",
    "        return newNode(data)\n",
    "\n",
    "    if data <= root.data:\n",
    "        root.left = insert(root.left, data)\n",
    "        root.leftSize += 1\n",
    "    else:\n",
    "        root.right = insert(root.right, data)\n",
    "    return root\n",
    "\n",
    "def getRank(root, x):\n",
    "     \n",
    "\n",
    "    if root.data == x:\n",
    "        return root.leftSize\n",
    "\n",
    "    if x < root.data:\n",
    "        if root.left is None:\n",
    "            return -1\n",
    "        else:\n",
    "            return getRank(root.left, x)\n",
    "\n",
    "    else:\n",
    "        if root.right is None:\n",
    "            return -1\n",
    "        else:\n",
    "            rightSize = getRank(root.right, x)\n",
    "            if rightSize == -1:\n",
    "                # x not found in right sub tree, i.e. not found in stream\n",
    "                return -1\n",
    "            else:\n",
    "                return root.leftSize + 1 + rightSize\n",
    "\n",
    "if __name__ == '__main__':\n",
    "    arr = [5, 1, 4, 4, 5, 9, 7, 13, 3]\n",
    "    n = len(arr)\n",
    "    x = 4\n",
    " \n",
    "    root = None\n",
    "    for i in range(n):\n",
    "        root = insert(root, arr[i])\n",
    " \n",
    "    print(\"Rank of\", x, \"in stream is:\",\n",
    "                       getRank(root, x))\n",
    "    x = 13\n",
    "    print(\"Rank of\", x, \"in stream is:\",\n",
    "                       getRank(root, x))\n",
    "    x = 8\n",
    "    print(\"Rank of\", x, \"in stream is:\",\n",
    "                       getRank(root, x))"
   ]
  },
  {
   "cell_type": "code",
   "execution_count": null,
   "id": "b1ea0778",
   "metadata": {},
   "outputs": [],
   "source": []
  }
 ],
 "metadata": {
  "kernelspec": {
   "display_name": "Python 3 (ipykernel)",
   "language": "python",
   "name": "python3"
  },
  "language_info": {
   "codemirror_mode": {
    "name": "ipython",
    "version": 3
   },
   "file_extension": ".py",
   "mimetype": "text/x-python",
   "name": "python",
   "nbconvert_exporter": "python",
   "pygments_lexer": "ipython3",
   "version": "3.9.13"
  }
 },
 "nbformat": 4,
 "nbformat_minor": 5
}
