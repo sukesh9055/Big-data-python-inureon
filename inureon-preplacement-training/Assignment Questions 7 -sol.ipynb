{
 "cells": [
  {
   "cell_type": "markdown",
   "id": "bcd82b76",
   "metadata": {},
   "source": [
    "q1\n",
    "\n",
    "Given two strings s and t, *determine if they are isomorphic*.\n",
    "\n",
    "Two strings s and t are isomorphic if the characters in s can be replaced to get t.\n",
    "\n",
    "All occurrences of a character must be replaced with another character while preserving the order of characters. No two characters may map to the same character, but a character may map to itself."
   ]
  },
  {
   "cell_type": "code",
   "execution_count": 1,
   "id": "4f81b781",
   "metadata": {},
   "outputs": [
    {
     "name": "stdout",
     "output_type": "stream",
     "text": [
      "True\n"
     ]
    }
   ],
   "source": [
    "def areIsomorphic(str1, str2):\n",
    "    \n",
    "    charCount = dict()\n",
    "    \n",
    "    c = \"a\"\n",
    "   \n",
    "    for i in range(len(str1)):\n",
    "        \n",
    "        if str1[i] in charCount:\n",
    "            c = charCount[str1[i]]\n",
    "            if c != str2[i]:\n",
    "                return False\n",
    "        \n",
    "        elif str2[i] not in charCount.values():\n",
    "            charCount[str1[i]] = str2[i]\n",
    "        else:\n",
    "            return False\n",
    "    return True\n",
    "\n",
    "str1 = \"aac\"\n",
    "str2 = \"xxy\"\n",
    "\n",
    "if (len(str1) == len(str2) and areIsomorphic(str1, str2)):\n",
    "    print(\"True\")\n",
    "else:\n",
    "    print(\"False\")"
   ]
  },
  {
   "cell_type": "markdown",
   "id": "795a49e2",
   "metadata": {},
   "source": [
    "<aside>\n",
    "💡 **Question 2**\n",
    "\n",
    "Given a string num which represents an integer, return true *if* num *is a **strobogrammatic number***.\n",
    "\n",
    "A **strobogrammatic number** is a number that looks the same when rotated 180 degrees (looked at upside down).\n",
    "\n",
    "</aside>"
   ]
  },
  {
   "cell_type": "code",
   "execution_count": 5,
   "id": "02e3b77b",
   "metadata": {},
   "outputs": [],
   "source": [
    "\n",
    "    def isStrobogrammatic(num):\n",
    "      \n",
    "        maps = {(\"0\", \"0\"), (\"1\", \"1\"), (\"6\", \"9\"), (\"8\", \"8\"), (\"9\", \"6\")}\n",
    "        i,j = 0, len(num) - 1\n",
    "        while i <= j:\n",
    "            if (num[i], num[j]) not in maps:\n",
    "                return False\n",
    "            i += 1\n",
    "            j -= 1\n",
    "        return True"
   ]
  },
  {
   "cell_type": "code",
   "execution_count": 6,
   "id": "84758d89",
   "metadata": {},
   "outputs": [
    {
     "data": {
      "text/plain": [
       "True"
      ]
     },
     "execution_count": 6,
     "metadata": {},
     "output_type": "execute_result"
    }
   ],
   "source": [
    "num = \"69\"\n",
    "isStrobogrammatic(num)"
   ]
  },
  {
   "cell_type": "markdown",
   "id": "4ff90cc6",
   "metadata": {},
   "source": [
    "<aside>\n",
    "💡 **Question 3**\n",
    "\n",
    "Given two non-negative integers, num1 and num2 represented as string, return *the sum of* num1 *and* num2 *as a string*.\n",
    "\n",
    "You must solve the problem without using any built-in library for handling large integers (such as BigInteger). You must also not convert the inputs to integers directly.\n",
    "\n",
    "</aside>"
   ]
  },
  {
   "cell_type": "code",
   "execution_count": 7,
   "id": "e9b97df3",
   "metadata": {},
   "outputs": [],
   "source": [
    "def addStrings(num1, num2):\n",
    "        result = \"\"\n",
    "        carry = 0\n",
    "\n",
    "        def equalizeNumberOfCharacters(num1, num2):\n",
    "            if len(num1) < len(num2):\n",
    "                while len(num1) != len(num2):\n",
    "                    num1 = \"0\" + num1\n",
    "            else:\n",
    "                while len(num2) != len(num1):\n",
    "                    num2 = \"0\" + num2\n",
    "            return [num1,num2]\n",
    "        \n",
    "        num1, num2 = equalizeNumberOfCharacters(num1, num2)\n",
    "        \n",
    "        num1Array = list(num1)\n",
    "        num2Array = list(num2)\n",
    "        \n",
    "        while len(num1Array) != 0:\n",
    "            add = int(num1Array.pop()) + int(num2Array.pop()) + int(carry)\n",
    "            carry = add // 10\n",
    "            result = str(add % 10) + result\n",
    "        \n",
    "        if carry != 0:\n",
    "            result = str(carry) + result\n",
    "        return result"
   ]
  },
  {
   "cell_type": "code",
   "execution_count": 8,
   "id": "c701954c",
   "metadata": {},
   "outputs": [],
   "source": [
    "num1 = \"11\"\n",
    "num2 = \"123\""
   ]
  },
  {
   "cell_type": "code",
   "execution_count": 9,
   "id": "db7d52df",
   "metadata": {},
   "outputs": [
    {
     "data": {
      "text/plain": [
       "'134'"
      ]
     },
     "execution_count": 9,
     "metadata": {},
     "output_type": "execute_result"
    }
   ],
   "source": [
    "addStrings(num1, num2)"
   ]
  },
  {
   "cell_type": "markdown",
   "id": "18b45f96",
   "metadata": {},
   "source": [
    "<aside>\n",
    "💡 **Question 4**\n",
    "\n",
    "Given a string s, reverse the order of characters in each word within a sentence while still preserving whitespace and initial word order.\n",
    "\n",
    "</aside>"
   ]
  },
  {
   "cell_type": "code",
   "execution_count": 11,
   "id": "bf90dcfa",
   "metadata": {},
   "outputs": [
    {
     "name": "stdout",
     "output_type": "stream",
     "text": [
      "s'teL ekat edoCteeL tsetnoc "
     ]
    }
   ],
   "source": [
    "def print_words(s):\n",
    "    \n",
    "    word = \"\"\n",
    " \n",
    "    iss = s.split()\n",
    " \n",
    "    for i in iss:\n",
    "        word = i[::-1]\n",
    "        print(word, end=\" \")\n",
    "\n",
    "if __name__ == '__main__':\n",
    "    s = \"Let's take LeetCode contest\"\n",
    "    print_words(s)"
   ]
  },
  {
   "cell_type": "markdown",
   "id": "c7c47a63",
   "metadata": {},
   "source": [
    "<aside>\n",
    "💡 **Question 5**\n",
    "\n",
    "Given a string s and an integer k, reverse the first k characters for every 2k characters counting from the start of the string.\n",
    "\n",
    "If there are fewer than k characters left, reverse all of them. If there are less than 2k but greater than or equal to k characters, then reverse the first k characters and leave the other as original.\n",
    "\n",
    "</aside>"
   ]
  },
  {
   "cell_type": "code",
   "execution_count": 12,
   "id": "1cfc5c97",
   "metadata": {},
   "outputs": [],
   "source": [
    "def reverseStr(s, k):\n",
    "        \n",
    "        sLen = len(s)\n",
    "        builder = \"\"\n",
    "        left = 0\n",
    "        rev = False\n",
    "        for i in range(sLen):\n",
    "            if i % k == 0:\n",
    "                subStr = s[left:i]\n",
    "                if rev:\n",
    "                    subStr = subStr[::-1]\n",
    "                builder += subStr\n",
    "                left = i\n",
    "                rev = not rev\n",
    "        subStr = s[left:sLen]\n",
    "        if rev:\n",
    "            subStr = subStr[::-1]\n",
    "        builder += subStr\n",
    "        return builder"
   ]
  },
  {
   "cell_type": "code",
   "execution_count": 13,
   "id": "41d00ed4",
   "metadata": {},
   "outputs": [
    {
     "data": {
      "text/plain": [
       "'bacdfeg'"
      ]
     },
     "execution_count": 13,
     "metadata": {},
     "output_type": "execute_result"
    }
   ],
   "source": [
    "s = \"abcdefg\"\n",
    "k = 2\n",
    "reverseStr(s, k)"
   ]
  },
  {
   "cell_type": "markdown",
   "id": "05f6dc97",
   "metadata": {},
   "source": [
    "<aside>\n",
    "💡 **Question 6**\n",
    "\n",
    "Given two strings s and goal, return true *if and only if* s *can become* goal *after some number of **shifts** on* s.\n",
    "\n",
    "A **shift** on s consists of moving the leftmost character of s to the rightmost position.\n",
    "\n",
    "- For example, if s = \"abcde\", then it will be \"bcdea\" after one shift.\n",
    "</aside>"
   ]
  },
  {
   "cell_type": "code",
   "execution_count": 18,
   "id": "9abed2d9",
   "metadata": {},
   "outputs": [],
   "source": [
    "def reverseString(s: list[str]) -> None:\n",
    "    l = 0\n",
    "    r = len(s) - 1\n",
    "\n",
    "    while l < r:\n",
    "      s[l], s[r] = s[r], s[l]\n",
    "      l += 1\n",
    "      r -= 1"
   ]
  },
  {
   "cell_type": "markdown",
   "id": "7c6774d2",
   "metadata": {},
   "source": [
    "<aside>\n",
    "💡 **Question 7**\n",
    "\n",
    "Given two strings s and t, return true *if they are equal when both are typed into empty text editors*. '#' means a backspace character.\n",
    "\n",
    "Note that after backspacing an empty text, the text will continue empty.\n",
    "\n",
    "</aside>"
   ]
  },
  {
   "cell_type": "code",
   "execution_count": 20,
   "id": "5efa76a5",
   "metadata": {},
   "outputs": [],
   "source": [
    "def backspaceCompare(S: str, T: str) -> bool:\n",
    "        s_stack = []\n",
    "        t_stack = []\n",
    "        for s in S:\n",
    "            if s == '#' and s_stack:\n",
    "                s_stack.pop()\n",
    "                continue\n",
    "            if s != '#': s_stack.append(s)\n",
    "        for t in T:\n",
    "            if t == '#' and t_stack:\n",
    "                t_stack.pop()\n",
    "                continue\n",
    "            if t != '#': t_stack.append(t)\n",
    "        return s_stack == t_stack"
   ]
  },
  {
   "cell_type": "code",
   "execution_count": 22,
   "id": "35c90273",
   "metadata": {},
   "outputs": [
    {
     "data": {
      "text/plain": [
       "True"
      ]
     },
     "execution_count": 22,
     "metadata": {},
     "output_type": "execute_result"
    }
   ],
   "source": [
    "s = \"ab#c\"\n",
    "t = \"ad#c\"\n",
    "backspaceCompare(s,t)"
   ]
  },
  {
   "cell_type": "markdown",
   "id": "ed48d525",
   "metadata": {},
   "source": [
    "<aside>\n",
    "💡 **Question 8**\n",
    "\n",
    "You are given an array coordinates, coordinates[i] = [x, y], where [x, y] represents the coordinate of a point. Check if these points make a straight line in the XY plane.\n",
    "\n",
    "</aside>"
   ]
  },
  {
   "cell_type": "code",
   "execution_count": 24,
   "id": "a6d9ecf8",
   "metadata": {},
   "outputs": [],
   "source": [
    "def checkStraightLine(coordinates: list[list[int]]) -> bool:\n",
    "        num = len(coordinates)\n",
    "        if coordinates is None or num == 2: return True\n",
    "        dy0 = coordinates[1][1] - coordinates[0][1]\n",
    "        dx0 = coordinates[1][0] - coordinates[0][0]\n",
    "        for i in range(1,num-1):\n",
    "            dy1 = coordinates[i+1][1] - coordinates[i][1]\n",
    "            dx1 = coordinates[i+1][0] - coordinates[i][0]\n",
    "            if dy0 * dx1 != dy1 * dx0: return False\n",
    "        return True"
   ]
  },
  {
   "cell_type": "code",
   "execution_count": 25,
   "id": "2471f77c",
   "metadata": {},
   "outputs": [
    {
     "data": {
      "text/plain": [
       "True"
      ]
     },
     "execution_count": 25,
     "metadata": {},
     "output_type": "execute_result"
    }
   ],
   "source": [
    "coordinates = [[1,2],[2,3],[3,4],[4,5],[5,6],[6,7]]\n",
    "checkStraightLine(coordinates)"
   ]
  },
  {
   "cell_type": "code",
   "execution_count": null,
   "id": "dd7cc409",
   "metadata": {},
   "outputs": [],
   "source": []
  }
 ],
 "metadata": {
  "kernelspec": {
   "display_name": "Python 3 (ipykernel)",
   "language": "python",
   "name": "python3"
  },
  "language_info": {
   "codemirror_mode": {
    "name": "ipython",
    "version": 3
   },
   "file_extension": ".py",
   "mimetype": "text/x-python",
   "name": "python",
   "nbconvert_exporter": "python",
   "pygments_lexer": "ipython3",
   "version": "3.9.13"
  }
 },
 "nbformat": 4,
 "nbformat_minor": 5
}
