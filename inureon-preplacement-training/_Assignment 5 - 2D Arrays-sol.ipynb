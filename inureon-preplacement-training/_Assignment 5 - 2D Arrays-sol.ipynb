{
 "cells": [
  {
   "cell_type": "markdown",
   "id": "6c72c5c5",
   "metadata": {},
   "source": [
    "<aside>\n",
    "💡 **Question 1**\n",
    "\n",
    "Convert 1D Array Into 2D Array\n",
    "\n",
    "You are given a **0-indexed** 1-dimensional (1D) integer array original, and two integers, m and n. You are tasked with creating a 2-dimensional (2D) array with  m rows and n columns using **all** the elements from original.\n",
    "\n",
    "The elements from indices 0 to n - 1 (**inclusive**) of original should form the first row of the constructed 2D array, the elements from indices n to 2 * n - 1 (**inclusive**) should form the second row of the constructed 2D array, and so on.\n",
    "\n",
    "Return *an* m x n *2D array constructed according to the above procedure, or an empty 2D array if it is impossible*.\n",
    "\n",
    "</aside>"
   ]
  },
  {
   "cell_type": "code",
   "execution_count": 3,
   "id": "8decf743",
   "metadata": {},
   "outputs": [],
   "source": [
    " def construct2DArray(original: list[int], m: int, n: int) -> list[list[int]]:\n",
    "    if len(original) != m * n:\n",
    "      return []\n",
    "\n",
    "    ans = [[0] * n for _ in range(m)]\n",
    "\n",
    "    for i, num in enumerate(original):\n",
    "      ans[i // n][i % n] = num\n",
    "\n",
    "    return ans"
   ]
  },
  {
   "cell_type": "code",
   "execution_count": 4,
   "id": "e7f2ee10",
   "metadata": {},
   "outputs": [
    {
     "name": "stdout",
     "output_type": "stream",
     "text": [
      "[[1, 2], [3, 4]]\n"
     ]
    }
   ],
   "source": [
    "o = [1,2,3,4]\n",
    "m = 2\n",
    "n = 2\n",
    "print(construct2DArray(o,m,n))"
   ]
  },
  {
   "cell_type": "markdown",
   "id": "87d0ddfd",
   "metadata": {},
   "source": [
    "<aside>\n",
    "💡 **Question 2**\n",
    "\n",
    "You have n coins and you want to build a staircase with these coins. The staircase consists of k rows where the ith row has exactly i coins. The last row of the staircase **may be** incomplete.\n",
    "\n",
    "Given the integer n, return *the number of **complete rows** of the staircase you will build*.\n",
    "\n",
    "</aside>"
   ]
  },
  {
   "cell_type": "code",
   "execution_count": 10,
   "id": "28854ef3",
   "metadata": {},
   "outputs": [],
   "source": [
    "def arrangeCoins( n: int) -> int:\n",
    "        rows = 0\n",
    "        i = 1\n",
    "        \n",
    "        while n >= i:\n",
    "            n-=i\n",
    "            rows+=1\n",
    "            i+=1\n",
    "               \n",
    "        return rows"
   ]
  },
  {
   "cell_type": "code",
   "execution_count": 11,
   "id": "7529f7b6",
   "metadata": {},
   "outputs": [
    {
     "data": {
      "text/plain": [
       "2"
      ]
     },
     "execution_count": 11,
     "metadata": {},
     "output_type": "execute_result"
    }
   ],
   "source": [
    "n = 5\n",
    "arrangeCoins( n)"
   ]
  },
  {
   "cell_type": "markdown",
   "id": "7d2d38b7",
   "metadata": {},
   "source": [
    "<aside>\n",
    "💡 **Question 3**\n",
    "\n",
    "Given an integer array nums sorted in **non-decreasing** order, return *an array of **the squares of each number** sorted in non-decreasing order*.\n",
    "\n",
    "</aside>"
   ]
  },
  {
   "cell_type": "code",
   "execution_count": 13,
   "id": "b6ddfec7",
   "metadata": {},
   "outputs": [],
   "source": [
    "def sortSquare(arr, n):\n",
    " \n",
    "    for i in range(n):\n",
    "        arr[i]= arr[i] * arr[i]\n",
    "    arr.sort()"
   ]
  },
  {
   "cell_type": "code",
   "execution_count": 14,
   "id": "1af09ff6",
   "metadata": {},
   "outputs": [
    {
     "name": "stdout",
     "output_type": "stream",
     "text": [
      "0 1 9 16 100 "
     ]
    }
   ],
   "source": [
    "arr = [-4,-1,0,3,10]\n",
    "n = len(arr)\n",
    "sortSquare(arr, n)\n",
    "for i in range(n):\n",
    "    print(arr[i], end = \" \")"
   ]
  },
  {
   "cell_type": "markdown",
   "id": "953c6eb7",
   "metadata": {},
   "source": [
    "<aside>\n",
    "💡 **Question 4**\n",
    "\n",
    "Given two **0-indexed** integer arrays nums1 and nums2, return *a list* answer *of size* 2 *where:*\n",
    "\n",
    "- answer[0] *is a list of all **distinct** integers in* nums1 *which are **not** present in* nums2*.*\n",
    "- answer[1] *is a list of all **distinct** integers in* nums2 *which are **not** present in* nums1.\n",
    "\n",
    "**Note** that the integers in the lists may be returned in **any** order.\n",
    "\n",
    "</aside>"
   ]
  },
  {
   "cell_type": "code",
   "execution_count": 15,
   "id": "13e591ff",
   "metadata": {},
   "outputs": [],
   "source": [
    "def findDifference( nums1: list[int], nums2: list[int]) -> list[list[int]]:        \n",
    "        c1 = set(nums1)\n",
    "        c2 = set(nums2)\n",
    "        return [list(c1.difference(c2)), list(c2.difference(c1))]"
   ]
  },
  {
   "cell_type": "code",
   "execution_count": 16,
   "id": "92bea1c3",
   "metadata": {},
   "outputs": [
    {
     "data": {
      "text/plain": [
       "[[1, 3], [4, 6]]"
      ]
     },
     "execution_count": 16,
     "metadata": {},
     "output_type": "execute_result"
    }
   ],
   "source": [
    "nums1 = [1,2,3]\n",
    "nums2 = [2,4,6]\n",
    "findDifference(nums1,nums2)"
   ]
  },
  {
   "cell_type": "markdown",
   "id": "32979e36",
   "metadata": {},
   "source": [
    "q5\n",
    "\n",
    "Given two integer arrays arr1 and arr2, and the integer d, *return the distance value between the two arrays*.\n",
    "\n",
    "The distance value is defined as the number of elements arr1[i] such that there is not any element arr2[j] where |arr1[i]-arr2[j]| <= d."
   ]
  },
  {
   "cell_type": "code",
   "execution_count": 18,
   "id": "9616d8e5",
   "metadata": {},
   "outputs": [],
   "source": [
    "def findTheDistanceValue(arr1, arr2, d):\n",
    "       \n",
    "        arr1.sort(), arr2.sort()\n",
    "        result, i, j = 0, 0, 0\n",
    "        while i < len(arr1) and j < len(arr2):\n",
    "            if arr1[i]-arr2[j] > d:\n",
    "                j += 1\n",
    "                continue\n",
    "            result += arr2[j]-arr1[i] > d\n",
    "            i += 1\n",
    "        return result+len(arr1)-i"
   ]
  },
  {
   "cell_type": "code",
   "execution_count": 19,
   "id": "5c209028",
   "metadata": {},
   "outputs": [
    {
     "data": {
      "text/plain": [
       "2"
      ]
     },
     "execution_count": 19,
     "metadata": {},
     "output_type": "execute_result"
    }
   ],
   "source": [
    "arr1 = [4,5,8]\n",
    "arr2 = [10,9,1,8]\n",
    "\n",
    "d = 2\n",
    "findTheDistanceValue(arr1, arr2, d)"
   ]
  },
  {
   "cell_type": "markdown",
   "id": "07ce9168",
   "metadata": {},
   "source": [
    "<aside>\n",
    "💡 **Question 6**\n",
    "\n",
    "Given an integer array nums of length n where all the integers of nums are in the range [1, n] and each integer appears **once** or **twice**, return *an array of all the integers that appears **twice***.\n",
    "\n",
    "</aside>"
   ]
  },
  {
   "cell_type": "code",
   "execution_count": 20,
   "id": "f1dad27f",
   "metadata": {},
   "outputs": [],
   "source": [
    "def findDuplicates(nums):\n",
    "        ans = []\n",
    "        for i in nums:\n",
    "            if nums[abs(i)-1] < 0:\n",
    "                ans.append(abs(i))\n",
    "            nums[abs(i)-1] = -1*nums[abs(i)-1]\n",
    "        return ans"
   ]
  },
  {
   "cell_type": "code",
   "execution_count": 21,
   "id": "d4569d03",
   "metadata": {},
   "outputs": [
    {
     "data": {
      "text/plain": [
       "[2, 3]"
      ]
     },
     "execution_count": 21,
     "metadata": {},
     "output_type": "execute_result"
    }
   ],
   "source": [
    "nums = [4,3,2,7,8,2,3,1]\n",
    "findDuplicates(nums)\n"
   ]
  },
  {
   "cell_type": "markdown",
   "id": "c8bcc541",
   "metadata": {},
   "source": [
    "q7\n",
    "\n",
    "uppose an array of length n sorted in ascending order is **rotated** between 1 and n times. For example, the array nums = [0,1,2,4,5,6,7] might become:\n",
    "\n",
    "- [4,5,6,7,0,1,2] if it was rotated 4 times.\n",
    "- [0,1,2,4,5,6,7] if it was rotated 7 times.\n",
    "\n",
    "Notice that **rotating** an array [a[0], a[1], a[2], ..., a[n-1]] 1 time results in the array [a[n-1], a[0], a[1], a[2], ..., a[n-2]].\n",
    "\n",
    "Given the sorted rotated array nums of **unique** elements, return *the minimum element of this array*.\n",
    "\n",
    "You must write an algorithm that runs in O(log n) time."
   ]
  },
  {
   "cell_type": "code",
   "execution_count": 22,
   "id": "e8c7ddb1",
   "metadata": {},
   "outputs": [
    {
     "name": "stdout",
     "output_type": "stream",
     "text": [
      "1\n"
     ]
    }
   ],
   "source": [
    "def findMin(arr, N):\n",
    "     \n",
    "    min_ele = arr[0];\n",
    " \n",
    "    for i in range(N) :\n",
    "        if arr[i] < min_ele :\n",
    "            min_ele = arr[i]\n",
    " \n",
    "    return min_ele;\n",
    " \n",
    "\n",
    "arr = [5, 6, 1, 2, 3, 4]\n",
    "N = len(arr)\n",
    " \n",
    "print(findMin(arr,N))"
   ]
  },
  {
   "cell_type": "markdown",
   "id": "e96c658a",
   "metadata": {},
   "source": [
    "q8"
   ]
  },
  {
   "cell_type": "code",
   "execution_count": null,
   "id": "ca2f4633",
   "metadata": {},
   "outputs": [],
   "source": [
    "def findOriginalArray(self, changed: List[int]) -> List[int]:\n",
    "    ans = []\n",
    "    q = collections.deque()\n",
    "\n",
    "    for num in sorted(changed):\n",
    "      if q and num == q[0]:\n",
    "        q.popleft()\n",
    "      else:\n",
    "        q.append(num * 2)\n",
    "        ans.append(num)\n",
    "\n",
    "    return [] if q else ans"
   ]
  }
 ],
 "metadata": {
  "kernelspec": {
   "display_name": "Python 3 (ipykernel)",
   "language": "python",
   "name": "python3"
  },
  "language_info": {
   "codemirror_mode": {
    "name": "ipython",
    "version": 3
   },
   "file_extension": ".py",
   "mimetype": "text/x-python",
   "name": "python",
   "nbconvert_exporter": "python",
   "pygments_lexer": "ipython3",
   "version": "3.9.13"
  }
 },
 "nbformat": 4,
 "nbformat_minor": 5
}
