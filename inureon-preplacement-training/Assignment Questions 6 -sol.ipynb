{
 "cells": [
  {
   "cell_type": "markdown",
   "id": "c3b1b5de",
   "metadata": {},
   "source": [
    "<aside>\n",
    "💡 **Question 1**\n",
    "\n",
    "A permutation perm of n + 1 integers of all the integers in the range [0, n] can be represented as a string s of length n where:\n",
    "\n",
    "- s[i] == 'I' if perm[i] < perm[i + 1], and\n",
    "- s[i] == 'D' if perm[i] > perm[i + 1].\n",
    "\n",
    "Given a string s, reconstruct the permutation perm and return it. If there are multiple valid permutations perm, return **any of them**.\n",
    "\n",
    "</aside>"
   ]
  },
  {
   "cell_type": "code",
   "execution_count": 2,
   "id": "82f5af42",
   "metadata": {},
   "outputs": [],
   "source": [
    "def diStringMatch(S: str) -> list[int]:\n",
    "        mini=0\n",
    "        maxi=len(S)\n",
    "        l=[]\n",
    "        \n",
    "        for i in S:\n",
    "            if i==\"I\":\n",
    "                l.append(mini)\n",
    "                mini+=1\n",
    "            else:\n",
    "                l.append(maxi)\n",
    "                maxi-=1\n",
    "        return l+[maxi]"
   ]
  },
  {
   "cell_type": "code",
   "execution_count": 4,
   "id": "588becab",
   "metadata": {},
   "outputs": [
    {
     "data": {
      "text/plain": [
       "[0, 4, 1, 3, 2]"
      ]
     },
     "execution_count": 4,
     "metadata": {},
     "output_type": "execute_result"
    }
   ],
   "source": [
    "s = \"IDID\"\n",
    "diStringMatch(s)"
   ]
  },
  {
   "cell_type": "markdown",
   "id": "3580ae83",
   "metadata": {},
   "source": [
    "<aside>\n",
    "💡 **Question 2**\n",
    "\n",
    "You are given an m x n integer matrix matrix with the following two properties:\n",
    "\n",
    "- Each row is sorted in non-decreasing order.\n",
    "- The first integer of each row is greater than the last integer of the previous row.\n",
    "\n",
    "Given an integer target, return true *if* target *is in* matrix *or* false *otherwise*.\n",
    "\n",
    "You must write a solution in O(log(m * n)) time complexity.\n",
    "\n",
    "</aside>"
   ]
  },
  {
   "cell_type": "code",
   "execution_count": 5,
   "id": "65ce9501",
   "metadata": {},
   "outputs": [],
   "source": [
    "def searchMatrix(matrix: list[list[int]], target: int) -> bool:\n",
    "    if not matrix:\n",
    "      return False\n",
    "\n",
    "    m = len(matrix)\n",
    "    n = len(matrix[0])\n",
    "    l = 0\n",
    "    r = m * n\n",
    "\n",
    "    while l < r:\n",
    "      mid = (l + r) // 2\n",
    "      i = mid // n\n",
    "      j = mid % n\n",
    "      if matrix[i][j] == target:\n",
    "        return True\n",
    "      if matrix[i][j] < target:\n",
    "        l = mid + 1\n",
    "      else:\n",
    "        r = mid\n",
    "\n",
    "    return False"
   ]
  },
  {
   "cell_type": "code",
   "execution_count": 6,
   "id": "6d304458",
   "metadata": {},
   "outputs": [
    {
     "data": {
      "text/plain": [
       "True"
      ]
     },
     "execution_count": 6,
     "metadata": {},
     "output_type": "execute_result"
    }
   ],
   "source": [
    "matrix = [[1,3,5,7],[10,11,16,20],[23,30,34,60]]\n",
    "target = 3\n",
    "searchMatrix(matrix,target)"
   ]
  },
  {
   "cell_type": "markdown",
   "id": "08059e45",
   "metadata": {},
   "source": [
    "<aside>\n",
    "💡 **Question 3**\n",
    "\n",
    "Given an array of integers arr, return *true if and only if it is a valid mountain array*.\n",
    "\n",
    "Recall that arr is a mountain array if and only if:\n",
    "\n",
    "- arr.length >= 3\n",
    "- There exists some i with 0 < i < arr.length - 1 such that:\n",
    "    - arr[0] < arr[1] < ... < arr[i - 1] < arr[i]\n",
    "    - arr[i] > arr[i + 1] > ... > arr[arr.length - 1]\n",
    "</aside>"
   ]
  },
  {
   "cell_type": "code",
   "execution_count": 25,
   "id": "8cde82d0",
   "metadata": {},
   "outputs": [],
   "source": [
    "class Solution(object):\n",
    "    def validMountainArray(self, A):\n",
    "        \"\"\"\n",
    "        :type A: List[int]\n",
    "        :rtype: bool\n",
    "        \"\"\"\n",
    "        if len(A) <= 2: return False\n",
    "        if A[0] > A[1]: return False\n",
    "\n",
    "        increasing = True\n",
    "        for i in range(1, len(A)):\n",
    "            if A[i] > A[i - 1]:\n",
    "                if not increasing: return False\n",
    "            elif A[i] < A[i - 1]:\n",
    "                increasing = False\n",
    "            else:\n",
    "                return False\n",
    "\n",
    "        return not increasing"
   ]
  },
  {
   "cell_type": "markdown",
   "id": "10d320e4",
   "metadata": {},
   "source": [
    "<aside>\n",
    "💡 **Question 4**\n",
    "\n",
    "Given a binary array nums, return *the maximum length of a contiguous subarray with an equal number of* 0 *and* 1.\n",
    "\n",
    "</aside>"
   ]
  },
  {
   "cell_type": "code",
   "execution_count": 27,
   "id": "1e8a4d5c",
   "metadata": {},
   "outputs": [],
   "source": [
    "def findMaxLength(nums):\n",
    "    maxlen = 0\n",
    "    for start in range(0, len(nums)):\n",
    "        zeroes = 0\n",
    "        ones = 0\n",
    "        for end in range(start, len(nums)):\n",
    "            if nums[end] == 0:\n",
    "                zeroes += 1\n",
    "            else:\n",
    "                ones += 1\n",
    " \n",
    "            if zeroes == ones:\n",
    "                maxlen = max(maxlen, end - start + 1)\n",
    " \n",
    "    return maxlen"
   ]
  },
  {
   "cell_type": "code",
   "execution_count": 28,
   "id": "327a8dbc",
   "metadata": {},
   "outputs": [
    {
     "data": {
      "text/plain": [
       "2"
      ]
     },
     "execution_count": 28,
     "metadata": {},
     "output_type": "execute_result"
    }
   ],
   "source": [
    "nums = [0,1]\n",
    "findMaxLength(nums)"
   ]
  },
  {
   "cell_type": "markdown",
   "id": "371d3094",
   "metadata": {},
   "source": [
    "<aside>\n",
    "💡 **Question 5**\n",
    "\n",
    "The **product sum** of two equal-length arrays a and b is equal to the sum of a[i] * b[i] for all 0 <= i < a.length (**0-indexed**).\n",
    "\n",
    "- For example, if a = [1,2,3,4] and b = [5,2,3,1], the **product sum** would be 1*5 + 2*2 + 3*3 + 4*1 = 22.\n",
    "\n",
    "Given two arrays nums1 and nums2 of length n, return *the **minimum product sum** if you are allowed to **rearrange** the **order** of the elements in* nums1.\n",
    "\n",
    "</aside>"
   ]
  },
  {
   "cell_type": "code",
   "execution_count": 29,
   "id": "e42bec54",
   "metadata": {},
   "outputs": [],
   "source": [
    "def minProductSum(nums1: list[int], nums2: list[int]) -> int:\n",
    "    return sum([a * b for a, b in zip(sorted(nums1), sorted(nums2, reverse=True))])"
   ]
  },
  {
   "cell_type": "code",
   "execution_count": 30,
   "id": "0bd43637",
   "metadata": {},
   "outputs": [
    {
     "data": {
      "text/plain": [
       "40"
      ]
     },
     "execution_count": 30,
     "metadata": {},
     "output_type": "execute_result"
    }
   ],
   "source": [
    "nums1 = [5,3,4,2]\n",
    "nums2 = [4,2,2,5]\n",
    "minProductSum(nums1,nums2)"
   ]
  },
  {
   "cell_type": "markdown",
   "id": "d6fed517",
   "metadata": {},
   "source": [
    "<aside>\n",
    "💡 **Question 6**\n",
    "\n",
    "An integer array original is transformed into a **doubled** array changed by appending **twice the value** of every element in original, and then randomly **shuffling** the resulting array.\n",
    "\n",
    "Given an array changed, return original *if* changed *is a **doubled** array. If* changed *is not a **doubled** array, return an empty array. The elements in* original *may be returned in **any** order*\n",
    "\n",
    "</aside>"
   ]
  },
  {
   "cell_type": "code",
   "execution_count": 37,
   "id": "916023e6",
   "metadata": {},
   "outputs": [],
   "source": [
    "from collections import deque\n",
    "import collections"
   ]
  },
  {
   "cell_type": "code",
   "execution_count": 38,
   "id": "a3814ace",
   "metadata": {},
   "outputs": [],
   "source": [
    "\n",
    "def findOriginalArray(changed: list[int]) -> list[int]:\n",
    "    ans = []\n",
    "    q = collections.deque()\n",
    "\n",
    "    for num in sorted(changed):\n",
    "      if q and num == q[0]:\n",
    "        q.popleft()\n",
    "      else:\n",
    "        q.append(num * 2)\n",
    "        ans.append(num)\n",
    "\n",
    "    return [] if q else ans"
   ]
  },
  {
   "cell_type": "code",
   "execution_count": 39,
   "id": "6f8c8e8a",
   "metadata": {},
   "outputs": [
    {
     "data": {
      "text/plain": [
       "[1, 3, 4]"
      ]
     },
     "execution_count": 39,
     "metadata": {},
     "output_type": "execute_result"
    }
   ],
   "source": [
    "changed = [1,3,4,2,6,8]\n",
    "findOriginalArray(changed)"
   ]
  },
  {
   "cell_type": "markdown",
   "id": "cb74ff2f",
   "metadata": {},
   "source": [
    "<aside>\n",
    "💡 **Question 7**\n",
    "\n",
    "Given a positive integer n, generate an n x n matrix filled with elements from 1 to n2 in spiral order.\n",
    "\n",
    "</aside>"
   ]
  },
  {
   "cell_type": "code",
   "execution_count": 41,
   "id": "3f6ac95e",
   "metadata": {},
   "outputs": [],
   "source": [
    "def generateMatrix(n: int) -> list[list[int]]:\n",
    "    ans = [[0] * n for _ in range(n)]\n",
    "    count = 1\n",
    "\n",
    "    for min in range(n // 2):\n",
    "      max = n - min - 1\n",
    "      for i in range(min, max):\n",
    "        ans[min][i] = count\n",
    "        count += 1\n",
    "      for i in range(min, max):\n",
    "        ans[i][max] = count\n",
    "        count += 1\n",
    "      for i in range(max, min, -1):\n",
    "        ans[max][i] = count\n",
    "        count += 1\n",
    "      for i in range(max, min, -1):\n",
    "        ans[i][min] = count\n",
    "        count += 1\n",
    "\n",
    "    if n & 1:\n",
    "      ans[n // 2][n // 2] = count\n",
    "\n",
    "    return ans"
   ]
  },
  {
   "cell_type": "code",
   "execution_count": 42,
   "id": "ef11c283",
   "metadata": {},
   "outputs": [
    {
     "data": {
      "text/plain": [
       "[[1, 2, 3], [8, 9, 4], [7, 6, 5]]"
      ]
     },
     "execution_count": 42,
     "metadata": {},
     "output_type": "execute_result"
    }
   ],
   "source": [
    "n = 3\n",
    "generateMatrix(n)"
   ]
  },
  {
   "cell_type": "markdown",
   "id": "2f2f5e26",
   "metadata": {},
   "source": [
    "<aside>\n",
    "💡 **Question 8**\n",
    "\n",
    "Given two [sparse matrices](https://en.wikipedia.org/wiki/Sparse_matrix) mat1 of size m x k and mat2 of size k x n, return the result of mat1 x mat2. You may assume that multiplication is always possible.\n",
    "\n",
    "</aside>"
   ]
  },
  {
   "cell_type": "code",
   "execution_count": 43,
   "id": "67952250",
   "metadata": {},
   "outputs": [],
   "source": [
    "def multiply(mat1: list[list[int]], mat2: list[list[int]]) -> list[list[int]]:\n",
    "        r1, c1, c2 = len(mat1), len(mat1[0]), len(mat2[0])\n",
    "        res = [[0] * c2 for _ in range(r1)]\n",
    "        for i in range(r1):\n",
    "            for j in range(c2):\n",
    "                for k in range(c1):\n",
    "                    res[i][j] += mat1[i][k] * mat2[k][j]\n",
    "        return res"
   ]
  },
  {
   "cell_type": "code",
   "execution_count": 44,
   "id": "ccda4714",
   "metadata": {},
   "outputs": [
    {
     "data": {
      "text/plain": [
       "[[7, 0, 0], [-7, 0, 3]]"
      ]
     },
     "execution_count": 44,
     "metadata": {},
     "output_type": "execute_result"
    }
   ],
   "source": [
    "mat1 = [[1,0,0],[-1,0,3]]\n",
    "mat2 = [[7,0,0],[0,0,0],[0,0,1]]\n",
    "multiply(mat1,mat2)"
   ]
  },
  {
   "cell_type": "code",
   "execution_count": null,
   "id": "7dcfaa4d",
   "metadata": {},
   "outputs": [],
   "source": []
  }
 ],
 "metadata": {
  "kernelspec": {
   "display_name": "Python 3 (ipykernel)",
   "language": "python",
   "name": "python3"
  },
  "language_info": {
   "codemirror_mode": {
    "name": "ipython",
    "version": 3
   },
   "file_extension": ".py",
   "mimetype": "text/x-python",
   "name": "python",
   "nbconvert_exporter": "python",
   "pygments_lexer": "ipython3",
   "version": "3.9.13"
  }
 },
 "nbformat": 4,
 "nbformat_minor": 5
}
