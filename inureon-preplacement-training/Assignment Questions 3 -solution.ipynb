{
 "cells": [
  {
   "cell_type": "markdown",
   "id": "f5c467dd",
   "metadata": {},
   "source": [
    "**Question 1**\n",
    "\n",
    "Given an integer array nums of length n and an integer target, find three integers\n",
    "in nums such that the sum is closest to the target.\n",
    "Return the sum of the three integers.\n",
    "\n",
    "You may assume that each input would have exactly one solution."
   ]
  },
  {
   "cell_type": "code",
   "execution_count": 2,
   "id": "dcf2c936",
   "metadata": {},
   "outputs": [],
   "source": [
    "def threeSumClosest(nums: list[int], target: int) -> int:\n",
    "    \n",
    "    nums.sort()\n",
    "  \n",
    "    n = len(nums)\n",
    "   \n",
    "    closest = nums[0] + nums[1] + nums[n - 1]\n",
    "   \n",
    "    for i in range(0, n - 2):\n",
    "       \n",
    "        j = i + 1\n",
    "        k = n - 1\n",
    "       \n",
    "        while j < k:\n",
    "            current_sum = nums[i] + nums[j] + nums[k]\n",
    "            if current_sum <= target:\n",
    "                j += 1\n",
    "            else:\n",
    "                k -= 1\n",
    "            if abs(closest - target) > abs(current_sum - target):\n",
    "                closest = current_sum\n",
    "    return closest"
   ]
  },
  {
   "cell_type": "code",
   "execution_count": 3,
   "id": "0122b433",
   "metadata": {},
   "outputs": [
    {
     "data": {
      "text/plain": [
       "2"
      ]
     },
     "execution_count": 3,
     "metadata": {},
     "output_type": "execute_result"
    }
   ],
   "source": [
    "nums = [-1,2,1,-4]\n",
    "target = 1\n",
    "threeSumClosest(nums,target)"
   ]
  },
  {
   "cell_type": "markdown",
   "id": "85df963a",
   "metadata": {},
   "source": [
    "**Question 2**\n",
    "\n",
    "Given an array nums of n integers, return an array of all the unique quadruplets\n",
    "[nums[a], nums[b], nums[c], nums[d]] such that:\n",
    "           ● 0 <= a, b, c, d < n\n",
    "           ● a, b, c, and d are distinct.\n",
    "           ● nums[a] + nums[b] + nums[c] + nums[d] == target\n",
    "\n",
    "You may return the answer in any order."
   ]
  },
  {
   "cell_type": "code",
   "execution_count": 5,
   "id": "44f2ddea",
   "metadata": {},
   "outputs": [],
   "source": [
    "def fourSum(nums: list[int], target: int) -> list[list[int]]:\n",
    "    \n",
    "    quadruplets = list()\n",
    "    \n",
    "    if nums is None or len(nums) < 4:\n",
    "        return quadruplets\n",
    "    \n",
    "    nums.sort()\n",
    "   \n",
    "    n = len(nums)\n",
    "   \n",
    "    for i in range(0, n - 3):\n",
    "       \n",
    "        if i > 0 and nums[i] == nums[i - 1]:\n",
    "            continue\n",
    "       \n",
    "        for j in range(i + 1, n - 2):\n",
    "            \n",
    "            if j != i + 1 and nums[j] == nums[j - 1]:\n",
    "                continue\n",
    "           \n",
    "            k = j + 1\n",
    "            l = n - 1\n",
    "           \n",
    "            while k < l:\n",
    "                current_sum = nums[i] + nums[j] + nums[k] + nums[l]\n",
    "                if current_sum < target:\n",
    "                    k += 1\n",
    "                elif current_sum > target:\n",
    "                    l -= 1\n",
    "                else:\n",
    "                    quadruplets.append([nums[i], nums[j], nums[k], nums[l]])\n",
    "                    k += 1\n",
    "                    l -= 1\n",
    "                    while k < l and nums[k] == nums[k - 1]:\n",
    "                        k += 1\n",
    "                    while k < l and nums[l] == nums[l + 1]:\n",
    "                        l -= 1\n",
    "    return quadruplets"
   ]
  },
  {
   "cell_type": "code",
   "execution_count": 6,
   "id": "671f126d",
   "metadata": {},
   "outputs": [
    {
     "data": {
      "text/plain": [
       "[[-2, -1, 1, 2], [-2, 0, 0, 2], [-1, 0, 0, 1]]"
      ]
     },
     "execution_count": 6,
     "metadata": {},
     "output_type": "execute_result"
    }
   ],
   "source": [
    "nums = [1,0,-1,0,-2,2]\n",
    "target = 0\n",
    "fourSum(nums,target)"
   ]
  },
  {
   "cell_type": "markdown",
   "id": "41edd426",
   "metadata": {},
   "source": [
    "\n",
    "💡 **Question 3**\n",
    "\n",
    "A permutation of an array of integers is an arrangement of its members into a\n",
    "sequence or linear order.\n",
    "\n",
    "For example, for arr = [1,2,3], the following are all the permutations of arr:\n",
    "[1,2,3], [1,3,2], [2, 1, 3], [2, 3, 1], [3,1,2], [3,2,1].\n",
    "\n",
    "The next permutation of an array of integers is the next lexicographically greater\n",
    "permutation of its integer. More formally, if all the permutations of the array are\n",
    "sorted in one container according to their lexicographical order, then the next\n",
    "permutation of that array is the permutation that follows it in the sorted container.\n",
    "\n",
    "If such an arrangement is not possible, the array must be rearranged as the\n",
    "lowest possible order (i.e., sorted in ascending order).\n",
    "\n",
    "● For example, the next permutation of arr = [1,2,3] is [1,3,2].\n",
    "● Similarly, the next permutation of arr = [2,3,1] is [3,1,2].\n",
    "● While the next permutation of arr = [3,2,1] is [1,2,3] because [3,2,1] does not\n",
    "have a lexicographical larger rearrangement.\n",
    "\n",
    "Given an array of integers nums, find the next permutation of nums.\n",
    "The replacement must be in place and use only constant extra memory.\n",
    "\n"
   ]
  },
  {
   "cell_type": "code",
   "execution_count": 10,
   "id": "aa6ee33b",
   "metadata": {},
   "outputs": [],
   "source": [
    "def nextPermutation(self, nums: list[int]) -> None:\n",
    "       \n",
    "        if nums==[] or nums == None or len(nums)==1:\n",
    "            return\n",
    "        \n",
    "        l = len(nums)-1\n",
    "        i = l\n",
    "        while (nums[i-1]>=nums[i] and i>0):\n",
    "            i-=1\n",
    "        \n",
    "        if i==0:\n",
    "            nums.sort()\n",
    "            return \n",
    "        \n",
    "        start = i-1\n",
    "        last = l\n",
    "        p = i-1\n",
    "        next_to_start = i\n",
    "     \n",
    "        while p+1<=last:\n",
    "            p+=1\n",
    "            if nums[p] > nums[start] and nums[p] <= nums[next_to_start]:\n",
    "                next_to_start = p\n",
    "        nums[start],nums[next_to_start] = nums[next_to_start],nums[start]\n",
    "        f = i\n",
    "        b = l\n",
    "        while f<=b:\n",
    "            nums[f],nums[b] = nums[b],nums[f]\n",
    "            f+=1\n",
    "            b-=1\n",
    "            \n",
    "        return nums"
   ]
  },
  {
   "cell_type": "code",
   "execution_count": 11,
   "id": "82e2f148",
   "metadata": {},
   "outputs": [
    {
     "name": "stdout",
     "output_type": "stream",
     "text": [
      "[5, 1, 2, 3, 4]\n"
     ]
    }
   ],
   "source": [
    "nums = [4,5,3,2,1]\n",
    "print(nextPermutation(1,nums))"
   ]
  },
  {
   "cell_type": "markdown",
   "id": "8295744d",
   "metadata": {},
   "source": [
    "q4\n",
    "\n",
    "Given a sorted array of distinct integers and a target value, return the index if the\n",
    "target is found. If not, return the index where it would be if it were inserted in\n",
    "order.\n",
    "\n",
    "You must write an algorithm with O(log n) runtime complexity."
   ]
  },
  {
   "cell_type": "code",
   "execution_count": 3,
   "id": "c16a906f",
   "metadata": {},
   "outputs": [],
   "source": [
    "def searchInsert(nums: list[int], target: int) -> int:\n",
    "        l = 0\n",
    "        r = len(nums)-1\n",
    "        while l <= r:\n",
    "            m = (l+r)//2\n",
    "            if m == r and target > nums[m]:\n",
    "                return m + 1\n",
    "            if target > nums[m]:\n",
    "                l = m + 1\n",
    "            else:\n",
    "                r = m - 1\n",
    "        return m"
   ]
  },
  {
   "cell_type": "code",
   "execution_count": 4,
   "id": "9baf1188",
   "metadata": {},
   "outputs": [
    {
     "name": "stdout",
     "output_type": "stream",
     "text": [
      "2\n"
     ]
    }
   ],
   "source": [
    "nums = [1,3,5,6]\n",
    "target = 5\n",
    "print(searchInsert(nums,target))"
   ]
  },
  {
   "cell_type": "markdown",
   "id": "2b569965",
   "metadata": {},
   "source": [
    "Question 5\n",
    "\n",
    "You are given a large integer represented as an integer array digits, where each\n",
    "digits[i] is the ith digit of the integer. The digits are ordered from most significant\n",
    "to least significant in left-to-right order. The large integer does not contain any\n",
    "leading 0's.\n",
    "\n",
    "Increment the large integer by one and return the resulting array of digits."
   ]
  },
  {
   "cell_type": "code",
   "execution_count": 16,
   "id": "a47f3ff3",
   "metadata": {},
   "outputs": [],
   "source": [
    "def plusOne(digits: list[int]) -> list[int]:\n",
    "        d = 0\n",
    "        l = len(digits)\n",
    "        for digit in digits:\n",
    "            d = d * 10 + digit\n",
    "        d+=1\n",
    "        digits.clear()\n",
    "        while d:\n",
    "            number = d % 10\n",
    "            digits.insert(0,number)\n",
    "            d//=10\n",
    "        while len(digits) < l:\n",
    "            digits.insert(0,0)\n",
    "        return digits"
   ]
  },
  {
   "cell_type": "code",
   "execution_count": 17,
   "id": "a346307e",
   "metadata": {},
   "outputs": [
    {
     "data": {
      "text/plain": [
       "[1, 2, 4]"
      ]
     },
     "execution_count": 17,
     "metadata": {},
     "output_type": "execute_result"
    }
   ],
   "source": [
    "digits = [1,2,3]\n",
    "plusOne(digits)"
   ]
  },
  {
   "cell_type": "markdown",
   "id": "bc35a0b0",
   "metadata": {},
   "source": [
    "q6\n",
    "\n",
    "Given a non-empty array of integers nums, every element appears twice except\n",
    "for one. Find that single one.\n",
    "\n",
    "You must implement a solution with a linear runtime complexity and use only\n",
    "constant extra space."
   ]
  },
  {
   "cell_type": "code",
   "execution_count": 20,
   "id": "07e8d3ab",
   "metadata": {},
   "outputs": [],
   "source": [
    "def singleNumber(nums: list[int]) -> int:\n",
    "        res = 0\n",
    "        for n in nums:\n",
    "            res = n ^ res\n",
    "        return res"
   ]
  },
  {
   "cell_type": "code",
   "execution_count": 21,
   "id": "5aece4a4",
   "metadata": {},
   "outputs": [
    {
     "data": {
      "text/plain": [
       "1"
      ]
     },
     "execution_count": 21,
     "metadata": {},
     "output_type": "execute_result"
    }
   ],
   "source": [
    "nums = [2,2,1]\n",
    "singleNumber(nums)"
   ]
  },
  {
   "cell_type": "markdown",
   "id": "98314a53",
   "metadata": {},
   "source": [
    "q7"
   ]
  },
  {
   "cell_type": "code",
   "execution_count": 33,
   "id": "c7a35b8f",
   "metadata": {},
   "outputs": [],
   "source": [
    "import itertools\n",
    "def findMissingRanges(nums: list[int], lower: int, upper: int) -> list[str]:\n",
    "        def f(a, b):\n",
    "            return str(a) if a == b else f'{a}->{b}'\n",
    "\n",
    "        n = len(nums)\n",
    "        if n == 0:\n",
    "            return [f(lower, upper)]\n",
    "        ans = []\n",
    "        if nums[0] > lower:\n",
    "            ans.append(f(lower, nums[0] - 1))\n",
    "        for a, b in pairwise(nums):\n",
    "            if b - a > 1:\n",
    "                ans.append(f(a + 1, b - 1))\n",
    "        if nums[-1] < upper:\n",
    "            ans.append(f(nums[-1] + 1, upper))\n",
    "        return ans"
   ]
  },
  {
   "cell_type": "code",
   "execution_count": null,
   "id": "1111eb85",
   "metadata": {},
   "outputs": [],
   "source": []
  }
 ],
 "metadata": {
  "kernelspec": {
   "display_name": "Python 3 (ipykernel)",
   "language": "python",
   "name": "python3"
  },
  "language_info": {
   "codemirror_mode": {
    "name": "ipython",
    "version": 3
   },
   "file_extension": ".py",
   "mimetype": "text/x-python",
   "name": "python",
   "nbconvert_exporter": "python",
   "pygments_lexer": "ipython3",
   "version": "3.9.13"
  }
 },
 "nbformat": 4,
 "nbformat_minor": 5
}
