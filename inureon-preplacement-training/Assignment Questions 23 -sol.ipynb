{
 "cells": [
  {
   "cell_type": "markdown",
   "id": "7ab2f36d",
   "metadata": {},
   "source": [
    "<aside>\n",
    "💡 Question-1:\n",
    "\n",
    "Given preorder of a binary tree, calculate its **[depth(or height)](https://www.geeksforgeeks.org/write-a-c-program-to-find-the-maximum-depth-or-height-of-a-tree/)** [starting from depth 0]. The preorder is given as a string with two possible characters.\n",
    "\n",
    "1. ‘l’ denotes the leaf\n",
    "2. ‘n’ denotes internal node\n",
    "\n",
    "The given tree can be seen as a full binary tree where every node has 0 or two children. The two children of a node can ‘n’ or ‘l’ or mix of both.\n",
    "\n",
    "</aside>"
   ]
  },
  {
   "cell_type": "code",
   "execution_count": 1,
   "id": "f7ec3da0",
   "metadata": {
    "scrolled": true
   },
   "outputs": [
    {
     "name": "stdout",
     "output_type": "stream",
     "text": [
      "Depth of the binary tree: -1\n"
     ]
    }
   ],
   "source": [
    "def calculate_tree_depth(preorder):\n",
    "    stack = []\n",
    "    depth = -1  \n",
    "    \n",
    "    for char in preorder:\n",
    "        if char == 'n':\n",
    "            stack.append(char)\n",
    "            depth += 1\n",
    "        elif char == 'l':\n",
    "            while stack and stack[-1] == 'l':\n",
    "                stack.pop()\n",
    "                depth -= 1\n",
    "            if stack and stack[-1] == 'n':\n",
    "                stack.pop()\n",
    "                stack.append('l')\n",
    "    \n",
    "    return depth\n",
    "\n",
    "preorder = 'nlnlll'\n",
    "depth = calculate_tree_depth(preorder)\n",
    "print(\"Depth of the binary tree:\", depth)  \n"
   ]
  },
  {
   "cell_type": "markdown",
   "id": "996e16b7",
   "metadata": {},
   "source": [
    "<aside>\n",
    "💡 Question-2:\n",
    "\n",
    "Given a Binary tree, the task is to print the **left view** of the Binary Tree. The left view of a Binary Tree is a set of leftmost nodes for every level.\n",
    "\n",
    "</aside>"
   ]
  },
  {
   "cell_type": "code",
   "execution_count": 2,
   "id": "286779c4",
   "metadata": {},
   "outputs": [
    {
     "name": "stdout",
     "output_type": "stream",
     "text": [
      "Left View:\n",
      "1 2 4 7 "
     ]
    }
   ],
   "source": [
    "class TreeNode:\n",
    "    def __init__(self, value):\n",
    "        self.val = value\n",
    "        self.left = None\n",
    "        self.right = None\n",
    "\n",
    "def left_view(root):\n",
    "    if not root:\n",
    "        return\n",
    "    \n",
    "    queue = [(root, 1)]  \n",
    "    level_map = {}  \n",
    "    \n",
    "    while queue:\n",
    "        node, level = queue.pop(0)\n",
    "        \n",
    "        if level not in level_map:\n",
    "            level_map[level] = node.val\n",
    "        \n",
    "        if node.left:\n",
    "            queue.append((node.left, level + 1))\n",
    "        \n",
    "        if node.right:\n",
    "            queue.append((node.right, level + 1))\n",
    "    \n",
    "   \n",
    "    for level in sorted(level_map.keys()):\n",
    "        print(level_map[level], end=\" \")\n",
    "\n",
    "\n",
    "root = TreeNode(1)\n",
    "root.left = TreeNode(2)\n",
    "root.right = TreeNode(3)\n",
    "root.left.right = TreeNode(4)\n",
    "root.right.left = TreeNode(5)\n",
    "root.right.right = TreeNode(6)\n",
    "root.right.left.left = TreeNode(7)\n",
    "\n",
    "print(\"Left View:\")\n",
    "left_view(root)\n"
   ]
  },
  {
   "cell_type": "markdown",
   "id": "b0953eaa",
   "metadata": {},
   "source": [
    "<aside>\n",
    "💡 Question-3:\n",
    "\n",
    "Given a Binary Tree, print the Right view of it.\n",
    "\n",
    "The right view of a Binary Tree is a set of nodes visible when the tree is visited from the Right side.\n",
    "\n",
    "</aside>"
   ]
  },
  {
   "cell_type": "code",
   "execution_count": 3,
   "id": "d0408f3d",
   "metadata": {},
   "outputs": [
    {
     "name": "stdout",
     "output_type": "stream",
     "text": [
      "Right View:\n",
      "1 3 6 7 "
     ]
    }
   ],
   "source": [
    "class TreeNode:\n",
    "    def __init__(self, value):\n",
    "        self.val = value\n",
    "        self.left = None\n",
    "        self.right = None\n",
    "\n",
    "def right_view(root):\n",
    "    if not root:\n",
    "        return\n",
    "    \n",
    "    queue = [(root, 1)] \n",
    "    level_map = {}  \n",
    "    \n",
    "    while queue:\n",
    "        node, level = queue.pop(0)\n",
    "        \n",
    "        \n",
    "        level_map[level] = node.val\n",
    "        \n",
    "        if node.left:\n",
    "            queue.append((node.left, level + 1))\n",
    "        \n",
    "        if node.right:\n",
    "            queue.append((node.right, level + 1))\n",
    "    \n",
    "    \n",
    "    for level in sorted(level_map.keys()):\n",
    "        print(level_map[level], end=\" \")\n",
    "\n",
    "\n",
    "root = TreeNode(1)\n",
    "root.left = TreeNode(2)\n",
    "root.right = TreeNode(3)\n",
    "root.left.right = TreeNode(4)\n",
    "root.right.left = TreeNode(5)\n",
    "root.right.right = TreeNode(6)\n",
    "root.right.left.left = TreeNode(7)\n",
    "\n",
    "print(\"Right View:\")\n",
    "right_view(root)\n"
   ]
  },
  {
   "cell_type": "markdown",
   "id": "6232ecc1",
   "metadata": {},
   "source": [
    "<aside>\n",
    "💡 Question-4:\n",
    "\n",
    "Given a Binary Tree, The task is to print the **bottom view** from left to right. A node **x** is there in output if x is the bottommost node at its horizontal distance. The horizontal distance of the left child of a node x is equal to a horizontal distance of x minus 1, and that of a right child is the horizontal distance of x plus 1.\n",
    "\n",
    "</aside>"
   ]
  },
  {
   "cell_type": "code",
   "execution_count": 4,
   "id": "9e6f7fe9",
   "metadata": {},
   "outputs": [
    {
     "name": "stdout",
     "output_type": "stream",
     "text": [
      "Bottom View:\n",
      "5 10 4 14 25 "
     ]
    }
   ],
   "source": [
    "from collections import deque\n",
    "\n",
    "class TreeNode:\n",
    "    def __init__(self, value):\n",
    "        self.val = value\n",
    "        self.left = None\n",
    "        self.right = None\n",
    "\n",
    "def bottom_view(root):\n",
    "    if not root:\n",
    "        return\n",
    "    \n",
    "   \n",
    "    horizontal_distance = {}\n",
    "    \n",
    "    \n",
    "    queue = deque([(root, 0)])\n",
    "    \n",
    "    while queue:\n",
    "        node, hd = queue.popleft()\n",
    "        \n",
    "        \n",
    "        horizontal_distance[hd] = node.val\n",
    "        \n",
    "        \n",
    "        if node.left:\n",
    "            queue.append((node.left, hd - 1))\n",
    "        \n",
    "        \n",
    "        if node.right:\n",
    "            queue.append((node.right, hd + 1))\n",
    "    \n",
    "    \n",
    "    for hd in sorted(horizontal_distance.keys()):\n",
    "        print(horizontal_distance[hd], end=\" \")\n",
    "\n",
    "\n",
    "root = TreeNode(20)\n",
    "root.left = TreeNode(8)\n",
    "root.right = TreeNode(22)\n",
    "root.left.left = TreeNode(5)\n",
    "root.left.right = TreeNode(3)\n",
    "root.right.left = TreeNode(4)\n",
    "root.right.right = TreeNode(25)\n",
    "root.left.right.left = TreeNode(10)\n",
    "root.left.right.right = TreeNode(14)\n",
    "\n",
    "print(\"Bottom View:\")\n",
    "bottom_view(root)\n"
   ]
  },
  {
   "cell_type": "code",
   "execution_count": null,
   "id": "c8925f6d",
   "metadata": {},
   "outputs": [],
   "source": []
  }
 ],
 "metadata": {
  "kernelspec": {
   "display_name": "Python 3 (ipykernel)",
   "language": "python",
   "name": "python3"
  },
  "language_info": {
   "codemirror_mode": {
    "name": "ipython",
    "version": 3
   },
   "file_extension": ".py",
   "mimetype": "text/x-python",
   "name": "python",
   "nbconvert_exporter": "python",
   "pygments_lexer": "ipython3",
   "version": "3.9.13"
  }
 },
 "nbformat": 4,
 "nbformat_minor": 5
}
