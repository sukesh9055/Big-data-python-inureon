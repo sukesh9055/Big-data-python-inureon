{
 "cells": [
  {
   "cell_type": "markdown",
   "id": "f674eab1",
   "metadata": {},
   "source": [
    "<aside>\n",
    "💡 **Question 1**\n",
    "\n",
    "Given an array **arr[ ]** of size **N** having elements, the task is to find the next greater element for each element of the array in order of their appearance in the array.Next greater element of an element in the array is the nearest element on the right which is greater than the current element.If there does not exist next greater of current element, then next greater element for current element is -1. For example, next greater of the last element is always -1.\n",
    "\n",
    "</aside>"
   ]
  },
  {
   "cell_type": "code",
   "execution_count": 1,
   "id": "636b6066",
   "metadata": {},
   "outputs": [
    {
     "name": "stdout",
     "output_type": "stream",
     "text": [
      "11 -- 13\n",
      "13 -- 21\n",
      "21 -- -1\n",
      "3 -- -1\n"
     ]
    }
   ],
   "source": [
    "def printNGE(arr):\n",
    " \n",
    "    for i in range(0, len(arr), 1):\n",
    " \n",
    "        next = -1\n",
    "        for j in range(i+1, len(arr), 1):\n",
    "            if arr[i] < arr[j]:\n",
    "                next = arr[j]\n",
    "                break\n",
    " \n",
    "        print(str(arr[i]) + \" -- \" + str(next))\n",
    "\n",
    "arr = [11, 13, 21, 3]\n",
    "printNGE(arr)"
   ]
  },
  {
   "cell_type": "markdown",
   "id": "032b6b33",
   "metadata": {},
   "source": [
    "<aside>\n",
    "💡 **Question 2**\n",
    "\n",
    "Given an array **a** of integers of length **n**, find the nearest smaller number for every element such that the smaller element is on left side.If no small element present on the left print -1.\n",
    "\n",
    "</aside>"
   ]
  },
  {
   "cell_type": "code",
   "execution_count": 2,
   "id": "f8fc67f1",
   "metadata": {},
   "outputs": [
    {
     "name": "stdout",
     "output_type": "stream",
     "text": [
      "_, 1 , _, 0 , 2 , "
     ]
    }
   ],
   "source": [
    "def printPrevSmaller(arr, n):\n",
    "\n",
    "    print(\"_, \", end=\"\")\n",
    "\n",
    "    for i in range(1, n ):\n",
    "\n",
    "        for j in range(i-1 ,-2 ,-1):\n",
    "         \n",
    "            if (arr[j] < arr[i]):\n",
    "             \n",
    "                print(arr[j] ,\", \",\n",
    "                            end=\"\")\n",
    "                break\n",
    "\n",
    "        if (j == -1):\n",
    "            print(\"_, \", end=\"\")\n",
    "\n",
    "arr = [1, 3, 0, 2, 5]\n",
    "n = len(arr)\n",
    "printPrevSmaller(arr, n)"
   ]
  },
  {
   "cell_type": "markdown",
   "id": "7db5e91d",
   "metadata": {},
   "source": [
    "<aside>\n",
    "💡 **Question 4**\n",
    "\n",
    "You are given a stack **St**. You have to reverse the stack using recursion.\n",
    "\n",
    "</aside>"
   ]
  },
  {
   "cell_type": "code",
   "execution_count": 3,
   "id": "4f3654aa",
   "metadata": {},
   "outputs": [
    {
     "name": "stdout",
     "output_type": "stream",
     "text": [
      "Original Stack \n",
      "1 2 3 4 \n",
      "Reversed Stack \n",
      "4 3 2 1 \n"
     ]
    }
   ],
   "source": [
    "def insertAtBottom(stack, item):\n",
    "    if isEmpty(stack):\n",
    "        push(stack, item)\n",
    "    else:\n",
    "        temp = pop(stack)\n",
    "        insertAtBottom(stack, item)\n",
    "        push(stack, temp)\n",
    "\n",
    "def reverse(stack):\n",
    "    if not isEmpty(stack):\n",
    "        temp = pop(stack)\n",
    "        reverse(stack)\n",
    "        insertAtBottom(stack, temp)\n",
    "\n",
    "def createStack():\n",
    "    stack = []\n",
    "    return stack\n",
    "\n",
    "def isEmpty(stack):\n",
    "    return len(stack) == 0\n",
    "\n",
    "def push(stack, item):\n",
    "    stack.append(item)\n",
    "\n",
    "def pop(stack):\n",
    " \n",
    "    # If stack is empty\n",
    "    # then error\n",
    "    if(isEmpty(stack)):\n",
    "        print(\"Stack Underflow \")\n",
    "        exit(1)\n",
    " \n",
    "    return stack.pop()\n",
    "\n",
    "def prints(stack):\n",
    "    for i in range(len(stack)-1, -1, -1):\n",
    "        print(stack[i], end=' ')\n",
    "    print()\n",
    "\n",
    "stack = createStack()\n",
    "push(stack, str(4))\n",
    "push(stack, str(3))\n",
    "push(stack, str(2))\n",
    "push(stack, str(1))\n",
    "print(\"Original Stack \")\n",
    "prints(stack)\n",
    " \n",
    "reverse(stack)\n",
    " \n",
    "print(\"Reversed Stack \")\n",
    "prints(stack)"
   ]
  },
  {
   "cell_type": "markdown",
   "id": "57e3aae1",
   "metadata": {},
   "source": [
    "<aside>\n",
    "💡 **Question 5**\n",
    "\n",
    "You are given a string **S**, the task is to reverse the string using stack.\n",
    "\n",
    "</aside>"
   ]
  },
  {
   "cell_type": "code",
   "execution_count": 4,
   "id": "48df5dc7",
   "metadata": {},
   "outputs": [
    {
     "name": "stdout",
     "output_type": "stream",
     "text": [
      "Reversed string is:  skeeGrofskeeG\n"
     ]
    }
   ],
   "source": [
    "import string\n",
    "\n",
    "def the_helper(s):\n",
    "\n",
    "    stack = []\n",
    "\n",
    "    for i in s:\n",
    "        stack.append(i)\n",
    "\n",
    "    s = \"\"\n",
    "\n",
    "    while stack:\n",
    "        s += stack.pop()\n",
    "\n",
    "    return s\n",
    "\n",
    "if __name__ == \"__main__\":\n",
    "\n",
    "    str = \"GeeksforGeeks\"\n",
    "\n",
    "    reversed_str = the_helper(str)\n",
    "\n",
    "    print(\"Reversed string is: \", reversed_str)"
   ]
  },
  {
   "cell_type": "markdown",
   "id": "2d5167ea",
   "metadata": {},
   "source": [
    "<aside>\n",
    "💡 **Question 6**\n",
    "\n",
    "Given string **S** representing a postfix expression, the task is to evaluate the expression and find the final value. Operators will only include the basic arithmetic operators like ***, /, + and -**.\n",
    "\n",
    "</aside>"
   ]
  },
  {
   "cell_type": "code",
   "execution_count": 8,
   "id": "db9f3ebb",
   "metadata": {},
   "outputs": [
    {
     "name": "stdout",
     "output_type": "stream",
     "text": [
      "23\n"
     ]
    }
   ],
   "source": [
    "def postfix_evaluation(s):\n",
    "\n",
    "    s=s.split()\n",
    "\n",
    "    n=len(s)\n",
    "\n",
    "    stack =[]\n",
    "\n",
    "    for i in range(n):\n",
    "\n",
    "        if s[i].isdigit():\n",
    "\n",
    "          #append function is equivalent to push\n",
    "\n",
    "            stack.append(int(s[i]))\n",
    "\n",
    "        elif s[i]==\"+\":\n",
    "\n",
    "            a=stack.pop()\n",
    "\n",
    "            b=stack.pop()\n",
    "\n",
    "            stack.append(int(a)+int(b))\n",
    "\n",
    "        elif s[i]==\"*\":\n",
    "\n",
    "            a=stack.pop()\n",
    "\n",
    "            b=stack.pop()\n",
    "\n",
    "            stack.append(int(a)*int(b))\n",
    "\n",
    "        elif s[i]==\"/\":\n",
    "\n",
    "            a=stack.pop()\n",
    "\n",
    "            b=stack.pop()\n",
    "\n",
    "            stack.append(int(b)/int(a))\n",
    "\n",
    "        elif s[i]==\"-\":\n",
    "\n",
    "            a=stack.pop()\n",
    "\n",
    "            b=stack.pop()\n",
    "\n",
    "            stack.append(int(b)-int(a))            \n",
    "\n",
    "    return stack.pop()\n",
    "\n",
    "#space separtor is required , for solving 2 or more digits .\n",
    "\n",
    "s=\"10 2 8 * + 3 -\"\n",
    "\n",
    "val=postfix_evaluation(s)\n",
    "\n",
    "print(val)"
   ]
  },
  {
   "cell_type": "markdown",
   "id": "76aa96f8",
   "metadata": {},
   "source": [
    "<aside>\n",
    "💡 **Question 7**\n",
    "\n",
    "Design a stack that supports push, pop, top, and retrieving the minimum element in constant time.\n",
    "\n",
    "Implement the `MinStack` class:\n",
    "\n",
    "- `MinStack()` initializes the stack object.\n",
    "- `void push(int val)` pushes the element `val` onto the stack.\n",
    "- `void pop()` removes the element on the top of the stack.\n",
    "- `int top()` gets the top element of the stack.\n",
    "- `int getMin()` retrieves the minimum element in the stack.\n",
    "\n",
    "You must implement a solution with `O(1)` time complexity for each function.\n",
    "\n",
    "</aside>"
   ]
  },
  {
   "cell_type": "code",
   "execution_count": 9,
   "id": "8e5329af",
   "metadata": {},
   "outputs": [
    {
     "name": "stdout",
     "output_type": "stream",
     "text": [
      "-4\n",
      "0\n",
      "-4\n",
      "-1\n"
     ]
    }
   ],
   "source": [
    "class MinStack:\n",
    "\n",
    "    def __init__(self):\n",
    "        self.s = []\n",
    " \n",
    "    class Node:\n",
    "        def __init__(self, val, Min):\n",
    "            self.val = val\n",
    "            self.min = Min\n",
    " \n",
    "    def push(self, x):\n",
    "        if not self.s:\n",
    "            self.s.append(self.Node(x, x))\n",
    "        else:\n",
    "            Min = min(self.s[-1].min, x)\n",
    "            self.s.append(self.Node(x, Min))\n",
    " \n",
    "    def pop(self):\n",
    "        return self.s.pop().val\n",
    " \n",
    "    def top(self):\n",
    "        return self.s[-1].val\n",
    " \n",
    "    def getMin(self):\n",
    "        return self.s[-1].min\n",
    " \n",
    "s = MinStack()\n",
    " \n",
    "# Function calls\n",
    "s.push(-1)\n",
    "s.push(10)\n",
    "s.push(-4)\n",
    "s.push(0)\n",
    "print(s.getMin())\n",
    "print(s.pop())\n",
    "print(s.pop())\n",
    "print(s.getMin())"
   ]
  },
  {
   "cell_type": "markdown",
   "id": "968a3bee",
   "metadata": {},
   "source": [
    "<aside>\n",
    "💡 **Question 8**\n",
    "\n",
    "Given `n` non-negative integers representing an elevation map where the width of each bar is `1`, compute how much water it can trap after raining.\n",
    "\n",
    "</aside>"
   ]
  },
  {
   "cell_type": "code",
   "execution_count": 11,
   "id": "0677d0c9",
   "metadata": {},
   "outputs": [],
   "source": [
    "def maxWater(arr, n):\n",
    "\n",
    "    res = 0\n",
    "\n",
    "    for i in range(1, n - 1):\n",
    "\n",
    "        left = arr[i]\n",
    "        for j in range(i):\n",
    "            left = max(left, arr[j])\n",
    "\n",
    "        right = arr[i]\n",
    "  \n",
    "        for j in range(i + 1, n):\n",
    "            right = max(right, arr[j])\n",
    "\n",
    "        res = res + (min(left, right) - arr[i])\n",
    "  \n",
    "    return res\n"
   ]
  },
  {
   "cell_type": "code",
   "execution_count": 12,
   "id": "b7dfa2e6",
   "metadata": {},
   "outputs": [
    {
     "name": "stdout",
     "output_type": "stream",
     "text": [
      "6\n"
     ]
    }
   ],
   "source": [
    "arr = [0, 1, 0, 2, 1, 0,1, 3, 2, 1, 2, 1]\n",
    "n = len(arr)\n",
    "print(maxWater(arr, n))"
   ]
  },
  {
   "cell_type": "code",
   "execution_count": null,
   "id": "625bb8f8",
   "metadata": {},
   "outputs": [],
   "source": []
  }
 ],
 "metadata": {
  "kernelspec": {
   "display_name": "Python 3 (ipykernel)",
   "language": "python",
   "name": "python3"
  },
  "language_info": {
   "codemirror_mode": {
    "name": "ipython",
    "version": 3
   },
   "file_extension": ".py",
   "mimetype": "text/x-python",
   "name": "python",
   "nbconvert_exporter": "python",
   "pygments_lexer": "ipython3",
   "version": "3.9.13"
  }
 },
 "nbformat": 4,
 "nbformat_minor": 5
}
