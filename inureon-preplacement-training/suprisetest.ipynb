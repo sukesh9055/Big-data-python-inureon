{
 "cells": [
  {
   "cell_type": "code",
   "execution_count": 1,
   "id": "85b3f659",
   "metadata": {},
   "outputs": [
    {
     "name": "stdout",
     "output_type": "stream",
     "text": [
      "[1, 9, 8, 4, 2, 7, 6, 9, 0, 0, 0, 0]\n"
     ]
    }
   ],
   "source": [
    "def pushZerosToEnd(arr, n):\n",
    "    count = 0 \n",
    "     \n",
    "   \n",
    "    for i in range(n):\n",
    "        if arr[i] != 0:\n",
    "             \n",
    "\n",
    "            arr[count] = arr[i]\n",
    "            count+=1\n",
    "\n",
    "    while count < n:\n",
    "        arr[count] = 0\n",
    "        count += 1\n",
    "\n",
    "arr = [1, 9, 8, 4, 0, 0, 2, 7, 0, 6, 0, 9]\n",
    "n = len(arr)\n",
    "pushZerosToEnd(arr, n)\n",
    "\n",
    "print(arr)"
   ]
  },
  {
   "cell_type": "code",
   "execution_count": 2,
   "id": "1296279b",
   "metadata": {},
   "outputs": [
    {
     "name": "stdout",
     "output_type": "stream",
     "text": [
      "3\n"
     ]
    }
   ],
   "source": [
    "class Solution(object):\n",
    "   def lengthOfLongestSubstring(self, s):\n",
    "      i =0\n",
    "      j = 0\n",
    "      d={}\n",
    "      ans = 0\n",
    "      while j < len(s):\n",
    "         if s[j] not in d or i>d[s[j]]:\n",
    "            ans = max(ans,(j-i+1))\n",
    "            d[s[j]] = j\n",
    "         else:\n",
    "            i = d[s[j]]+1\n",
    "            ans = max(ans,(j-i+1))\n",
    "            j-=1\n",
    "         #print(ans)\n",
    "         j+=1\n",
    "      return ans\n",
    "ob1 = Solution()\n",
    "print(ob1.lengthOfLongestSubstring(\"ABCABCBB\"))"
   ]
  },
  {
   "cell_type": "code",
   "execution_count": null,
   "id": "468e5f9d",
   "metadata": {},
   "outputs": [],
   "source": []
  }
 ],
 "metadata": {
  "kernelspec": {
   "display_name": "Python 3 (ipykernel)",
   "language": "python",
   "name": "python3"
  },
  "language_info": {
   "codemirror_mode": {
    "name": "ipython",
    "version": 3
   },
   "file_extension": ".py",
   "mimetype": "text/x-python",
   "name": "python",
   "nbconvert_exporter": "python",
   "pygments_lexer": "ipython3",
   "version": "3.9.13"
  }
 },
 "nbformat": 4,
 "nbformat_minor": 5
}
