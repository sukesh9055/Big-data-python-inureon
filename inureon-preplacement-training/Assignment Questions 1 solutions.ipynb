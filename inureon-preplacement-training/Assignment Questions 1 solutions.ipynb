{
 "cells": [
  {
   "cell_type": "markdown",
   "id": "1eebd12a",
   "metadata": {},
   "source": [
    "\n",
    " **Q1.** Given an array of integers nums and an integer target, return indices of the two numbers such that they add up to target.\n",
    "\n",
    "You may assume that each input would have exactly one solution, and you may not use the same element twice.\n",
    "\n",
    "You can return the answer in any order.\n"
   ]
  },
  {
   "cell_type": "code",
   "execution_count": 1,
   "id": "e4026438",
   "metadata": {},
   "outputs": [],
   "source": [
    "def two_sum(A, S):\n",
    "    pairs = []\n",
    "    for i in range(len(A)):\n",
    "        for j in range(i+1, len(A)):\n",
    "            if A[i] + A[j] == S:\n",
    "                pairs.append((i, j))\n",
    "\n",
    "    return pairs"
   ]
  },
  {
   "cell_type": "code",
   "execution_count": 6,
   "id": "68eb97c6",
   "metadata": {},
   "outputs": [
    {
     "data": {
      "text/plain": [
       "[(0, 1)]"
      ]
     },
     "execution_count": 6,
     "metadata": {},
     "output_type": "execute_result"
    }
   ],
   "source": [
    "A = [2,7,11,15]\n",
    "S=9\n",
    "two_sum(A,S)"
   ]
  },
  {
   "cell_type": "markdown",
   "id": "07b46df8",
   "metadata": {},
   "source": [
    "Q2. Given an integer array nums and an integer val, remove all occurrences of val in nums in-place. The order of the elements may be changed. Then return the number of elements in nums which are not equal to val."
   ]
  },
  {
   "cell_type": "code",
   "execution_count": 29,
   "id": "78438895",
   "metadata": {},
   "outputs": [],
   "source": [
    "def removeelement(s, val):\n",
    "    i = 0\n",
    "    for x in s:\n",
    "        if x != val:\n",
    "            s[i] = x\n",
    "            i += 1\n",
    "    return i"
   ]
  },
  {
   "cell_type": "code",
   "execution_count": 30,
   "id": "e8cdd761",
   "metadata": {},
   "outputs": [
    {
     "data": {
      "text/plain": [
       "2"
      ]
     },
     "execution_count": 30,
     "metadata": {},
     "output_type": "execute_result"
    }
   ],
   "source": [
    "s=[3,2,2,3]\n",
    "val=3\n",
    "removeelement(s, val)"
   ]
  },
  {
   "cell_type": "markdown",
   "id": "9b04ae7e",
   "metadata": {},
   "source": [
    "\n",
    "**Q3.** Given a sorted array of distinct integers and a target value, return the index if the target is found. If not, return the index where it would be if it were inserted in order.\n",
    "\n",
    "You must write an algorithm with O(log n) runtime complexity.\n",
    "\n"
   ]
  },
  {
   "cell_type": "code",
   "execution_count": 8,
   "id": "fe676499",
   "metadata": {},
   "outputs": [],
   "source": [
    "def searchInsert(nums: list[int], target: int) :\n",
    "        \n",
    "        low, high = 0, len(nums)\n",
    "        while low<high:\n",
    "            mid = low +(high - low) // 2\n",
    "            if target > nums[mid]:\n",
    "                low = mid + 1\n",
    "            else:\n",
    "                high = mid\n",
    "        return low"
   ]
  },
  {
   "cell_type": "code",
   "execution_count": 10,
   "id": "f1d11029",
   "metadata": {},
   "outputs": [
    {
     "data": {
      "text/plain": [
       "1"
      ]
     },
     "execution_count": 10,
     "metadata": {},
     "output_type": "execute_result"
    }
   ],
   "source": [
    "nums = [1,5,6,6]\n",
    "target = 5\n",
    "searchInsert(nums,target)"
   ]
  },
  {
   "cell_type": "markdown",
   "id": "bdbfd5b1",
   "metadata": {},
   "source": [
    "**Q4.** You are given a large integer represented as an integer array digits, where each digits[i] is the ith digit of the integer. The digits are ordered from most significant to least significant in left-to-right order. The large integer does not contain any leading 0's.\n",
    "\n",
    "Increment the large integer by one and return the resulting array of digits.\n"
   ]
  },
  {
   "cell_type": "code",
   "execution_count": 12,
   "id": "94df8091",
   "metadata": {},
   "outputs": [],
   "source": [
    "def plusOne(digits: list[int]) -> list[int]:\n",
    "        one = 1\n",
    "        i = 0\n",
    "        digits = digits[::-1]\n",
    "\n",
    "        while one:\n",
    "            if i < len(digits):\n",
    "                if digits[i] == 9:\n",
    "                    digits[i] = 0\n",
    "                else:\n",
    "                    digits[i] += 1\n",
    "                    one = 0\n",
    "            else:\n",
    "                digits.append(one)\n",
    "                one = 0\n",
    "            i += 1\n",
    "        return digits[::-1]"
   ]
  },
  {
   "cell_type": "code",
   "execution_count": 13,
   "id": "628c1568",
   "metadata": {},
   "outputs": [
    {
     "data": {
      "text/plain": [
       "[1, 2, 4]"
      ]
     },
     "execution_count": 13,
     "metadata": {},
     "output_type": "execute_result"
    }
   ],
   "source": [
    "digits = [1,2,3]\n",
    "plusOne(digits)"
   ]
  },
  {
   "cell_type": "markdown",
   "id": "e5095311",
   "metadata": {},
   "source": [
    "**Q5.** You are given two integer arrays nums1 and nums2, sorted in non-decreasing order, and two integers m and n, representing the number of elements in nums1 and nums2 respectively.\n",
    "\n",
    "Merge nums1 and nums2 into a single array sorted in non-decreasing order.\n",
    "\n",
    "The final sorted array should not be returned by the function, but instead be stored inside the array nums1. To accommodate this, nums1 has a length of m + n, where the first m elements denote the elements that should be merged, and the last n elements are set to 0 and should be ignored. nums2 has a length of n.\n"
   ]
  },
  {
   "cell_type": "code",
   "execution_count": 16,
   "id": "d2256363",
   "metadata": {},
   "outputs": [],
   "source": [
    "def merge(nums1: list[int], m: int, nums2: list[int], n: int) -> None:\n",
    "        \n",
    "        while m > 0 and n > 0:\n",
    "            if nums1[m-1] >= nums2[n-1]:\n",
    "                nums1[m+n-1] = nums1[m-1]\n",
    "                m -= 1\n",
    "            else:\n",
    "                nums1[m+n-1] = nums2[n-1]\n",
    "                n -= 1\n",
    "        if n > 0:\n",
    "            nums1[:n] = nums2[:n]"
   ]
  },
  {
   "cell_type": "code",
   "execution_count": 17,
   "id": "9a1fcd30",
   "metadata": {},
   "outputs": [],
   "source": [
    "nums1 = [1,2,3,0,0,0]\n",
    "m = 3\n",
    "nums2 = [2,5,6]\n",
    "n= 3\n",
    "merge(nums1,m,nums2,n)"
   ]
  },
  {
   "cell_type": "code",
   "execution_count": 18,
   "id": "b4d2ed53",
   "metadata": {},
   "outputs": [
    {
     "name": "stdout",
     "output_type": "stream",
     "text": [
      "[1, 2, 2, 3, 5, 6]\n"
     ]
    }
   ],
   "source": [
    "print(nums1)"
   ]
  },
  {
   "cell_type": "markdown",
   "id": "8c6cf35c",
   "metadata": {},
   "source": [
    "Q6. Given an integer array nums, return true if any value appears at least twice in the array, and return false if every element is distinct."
   ]
  },
  {
   "cell_type": "code",
   "execution_count": 20,
   "id": "b9690f96",
   "metadata": {},
   "outputs": [],
   "source": [
    "def containsDuplicate(nums: list[int]) -> bool:\n",
    "        hashset = set()\n",
    "\n",
    "        for n in nums:\n",
    "            if n in hashset:\n",
    "                return True\n",
    "            hashset.add(n)\n",
    "        return False"
   ]
  },
  {
   "cell_type": "code",
   "execution_count": 21,
   "id": "4789310a",
   "metadata": {},
   "outputs": [
    {
     "data": {
      "text/plain": [
       "True"
      ]
     },
     "execution_count": 21,
     "metadata": {},
     "output_type": "execute_result"
    }
   ],
   "source": [
    "nums = [1,2,3,1]\n",
    "containsDuplicate(nums)"
   ]
  },
  {
   "cell_type": "markdown",
   "id": "f903b5f1",
   "metadata": {},
   "source": [
    "**Q7.** Given an integer array nums, move all 0's to the end of it while maintaining the relative order of the nonzero elements.\n",
    "\n",
    "Note that you must do this in-place without making a copy of the array.\n"
   ]
  },
  {
   "cell_type": "code",
   "execution_count": 23,
   "id": "07f050ed",
   "metadata": {},
   "outputs": [],
   "source": [
    "def moveZeroes(nums: list[int]) -> None:\n",
    "        slow = 0\n",
    "        for fast in range(len(nums)):\n",
    "            \n",
    "            if nums[fast] != 0 and nums[slow] == 0:\n",
    "                nums[slow], nums[fast] = nums[fast], nums[slow]\n",
    "\n",
    "            if nums[slow] != 0:\n",
    "                slow += 1"
   ]
  },
  {
   "cell_type": "code",
   "execution_count": 24,
   "id": "a618fe27",
   "metadata": {},
   "outputs": [],
   "source": [
    "nums = [0,1,0,3,12]\n",
    "moveZeroes(nums)"
   ]
  },
  {
   "cell_type": "code",
   "execution_count": 25,
   "id": "2f3f0090",
   "metadata": {},
   "outputs": [
    {
     "name": "stdout",
     "output_type": "stream",
     "text": [
      "[1, 3, 12, 0, 0]\n"
     ]
    }
   ],
   "source": [
    "print(nums)"
   ]
  },
  {
   "cell_type": "markdown",
   "id": "7735d7bd",
   "metadata": {},
   "source": [
    "**Q8.** You have a set of integers s, which originally contains all the numbers from 1 to n. Unfortunately, due to some error, one of the numbers in s got duplicated to another number in the set, which results in repetition of one number and loss of another number.\n",
    "\n",
    "You are given an integer array nums representing the data status of this set after the error.\n",
    "\n",
    "Find the number that occurs twice and the number that is missing and return them in the form of an array."
   ]
  },
  {
   "cell_type": "code",
   "execution_count": 29,
   "id": "752956a6",
   "metadata": {},
   "outputs": [],
   "source": [
    "from collections import Counter\n",
    "def findErrorNums(nums: list[int]) -> list[int]:\n",
    "        n = len(nums)\n",
    "        nums = Counter(nums)\n",
    "        return [num for num, count in nums.items() if count==2][0], [num for num in range(1, n+1) if not nums[num]][0]"
   ]
  },
  {
   "cell_type": "code",
   "execution_count": 30,
   "id": "d20cbc63",
   "metadata": {},
   "outputs": [
    {
     "data": {
      "text/plain": [
       "(2, 3)"
      ]
     },
     "execution_count": 30,
     "metadata": {},
     "output_type": "execute_result"
    }
   ],
   "source": [
    "nums = [1,2,2,4]\n",
    "findErrorNums(nums)"
   ]
  },
  {
   "cell_type": "code",
   "execution_count": null,
   "id": "c0665d40",
   "metadata": {},
   "outputs": [],
   "source": []
  }
 ],
 "metadata": {
  "kernelspec": {
   "display_name": "Python 3 (ipykernel)",
   "language": "python",
   "name": "python3"
  },
  "language_info": {
   "codemirror_mode": {
    "name": "ipython",
    "version": 3
   },
   "file_extension": ".py",
   "mimetype": "text/x-python",
   "name": "python",
   "nbconvert_exporter": "python",
   "pygments_lexer": "ipython3",
   "version": "3.9.13"
  }
 },
 "nbformat": 4,
 "nbformat_minor": 5
}
