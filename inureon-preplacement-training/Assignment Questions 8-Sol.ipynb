{
 "cells": [
  {
   "cell_type": "markdown",
   "id": "fbe1827e",
   "metadata": {},
   "source": [
    "<aside>\n",
    "💡 **Question 1**\n",
    "\n",
    "Given two strings s1 and s2, return *the lowest **ASCII** sum of deleted characters to make two strings equal*.\n",
    "\n",
    "</aside>"
   ]
  },
  {
   "cell_type": "code",
   "execution_count": 10,
   "id": "b957f438",
   "metadata": {},
   "outputs": [],
   "source": [
    " def minimumDeleteSum(s1, s2):\n",
    "       \n",
    "        dp = [[0] * (len(s2)+1) for _ in range(2)]\n",
    "        for j in range(len(s2)):\n",
    "            dp[0][j+1] = dp[0][j] + ord(s2[j])\n",
    "\n",
    "        for i in range(len(s1)):\n",
    "            dp[(i+1)%2][0] = dp[i%2][0] + ord(s1[i])\n",
    "            for j in range(len(s2)):\n",
    "                if s1[i] == s2[j]:\n",
    "                    dp[(i+1)%2][j+1] = dp[i%2][j]\n",
    "                else:\n",
    "                    dp[(i+1)%2][j+1] = min(dp[i%2][j+1] + ord(s1[i]), \\\n",
    "                                           dp[(i+1)%2][j] + ord(s2[j]))\n",
    "\n",
    "        return dp[len(s1)%2][-1]\n"
   ]
  },
  {
   "cell_type": "code",
   "execution_count": 11,
   "id": "1764328b",
   "metadata": {},
   "outputs": [
    {
     "data": {
      "text/plain": [
       "231"
      ]
     },
     "execution_count": 11,
     "metadata": {},
     "output_type": "execute_result"
    }
   ],
   "source": [
    "s1 = \"sea\"\n",
    "s2 = \"eat\"\n",
    "minimumDeleteSum(s1, s2)"
   ]
  },
  {
   "cell_type": "markdown",
   "id": "0eccaf8c",
   "metadata": {},
   "source": [
    "<aside>\n",
    "💡 **Question 2**\n",
    "\n",
    "Given a string s containing only three types of characters: '(', ')' and '*', return true *if* s *is **valid***.\n",
    "\n",
    "The following rules define a **valid** string:\n",
    "\n",
    "- Any left parenthesis '(' must have a corresponding right parenthesis ')'.\n",
    "- Any right parenthesis ')' must have a corresponding left parenthesis '('.\n",
    "- Left parenthesis '(' must go before the corresponding right parenthesis ')'.\n",
    "- '*' could be treated as a single right parenthesis ')' or a single left parenthesis '(' or an empty string \"\".\n",
    "</aside>"
   ]
  },
  {
   "cell_type": "code",
   "execution_count": 13,
   "id": "6a5734c5",
   "metadata": {},
   "outputs": [],
   "source": [
    "def isValid(s: str) -> bool:\n",
    "        if len(s) % 2 != 0:\n",
    "            return False\n",
    "        dict = {'(' : ')', '[' : ']', '{' : '}'}\n",
    "        stack = []\n",
    "        for i in s:\n",
    "            if i in dict.keys():\n",
    "                stack.append(i)\n",
    "            else:\n",
    "                if stack == []:\n",
    "                    return False\n",
    "                a = stack.pop()\n",
    "                if i!= dict[a]:\n",
    "                    return False\n",
    "        return stack == []"
   ]
  },
  {
   "cell_type": "code",
   "execution_count": 14,
   "id": "fc80cafe",
   "metadata": {},
   "outputs": [
    {
     "data": {
      "text/plain": [
       "True"
      ]
     },
     "execution_count": 14,
     "metadata": {},
     "output_type": "execute_result"
    }
   ],
   "source": [
    " s = \"()\"\n",
    "isValid(s)"
   ]
  },
  {
   "cell_type": "markdown",
   "id": "6a64317a",
   "metadata": {},
   "source": [
    "<aside>\n",
    "💡 **Question 3**\n",
    "\n",
    "Given two strings word1 and word2, return *the minimum number of **steps** required to make* word1 *and* word2 *the same*.\n",
    "\n",
    "In one **step**, you can delete exactly one character in either string.\n",
    "\n",
    "</aside>"
   ]
  },
  {
   "cell_type": "code",
   "execution_count": 15,
   "id": "f907478c",
   "metadata": {},
   "outputs": [],
   "source": [
    "def minDistance(word1: str, word2: str) -> int:\n",
    "    m = len(word1)\n",
    "    n = len(word2)\n",
    "    dp = [0] * (n + 1)\n",
    "\n",
    "    for j in range(n + 1):\n",
    "      dp[j] = j\n",
    "\n",
    "    for i in range(1, m + 1):\n",
    "      newDp = [i] + [0] * n\n",
    "      for j in range(1, n + 1):\n",
    "        if word1[i - 1] == word2[j - 1]:\n",
    "          newDp[j] = dp[j - 1]\n",
    "        else:\n",
    "          newDp[j] = min(newDp[j - 1], dp[j]) + 1\n",
    "      dp = newDp\n",
    "\n",
    "    return dp[n]"
   ]
  },
  {
   "cell_type": "code",
   "execution_count": 16,
   "id": "79e0aa91",
   "metadata": {},
   "outputs": [
    {
     "data": {
      "text/plain": [
       "2"
      ]
     },
     "execution_count": 16,
     "metadata": {},
     "output_type": "execute_result"
    }
   ],
   "source": [
    "word1 = \"sea\"\n",
    "word2 = \"eat\"\n",
    "minDistance(word1,word2)"
   ]
  },
  {
   "cell_type": "markdown",
   "id": "688f628f",
   "metadata": {},
   "source": [
    "<aside>\n",
    "💡 **Question 4**\n",
    "\n",
    "You need to construct a binary tree from a string consisting of parenthesis and integers.\n",
    "\n",
    "The whole input represents a binary tree. It contains an integer followed by zero, one or two pairs of parenthesis. The integer represents the root's value and a pair of parenthesis contains a child binary tree with the same structure.\n",
    "You always start to construct the **left** child node of the parent first if it exists.\n",
    "\n",
    "</aside>"
   ]
  },
  {
   "cell_type": "code",
   "execution_count": 18,
   "id": "87bbf0ea",
   "metadata": {},
   "outputs": [],
   "source": [
    "def str2tree(s: str) :\n",
    "        def dfs(s):\n",
    "            if not s:\n",
    "                return None\n",
    "            p = s.find('(')\n",
    "            if p == -1:\n",
    "                return TreeNode(int(s))\n",
    "            root = TreeNode(int(s[:p]))\n",
    "            start = p\n",
    "            cnt = 0\n",
    "            for i in range(p, len(s)):\n",
    "                if s[i] == '(':\n",
    "                    cnt += 1\n",
    "                elif s[i] == ')':\n",
    "                    cnt -= 1\n",
    "                if cnt == 0:\n",
    "                    if not root.left: # or, 'if start == p:'\n",
    "                        root.left = dfs(s[start + 1 : i])\n",
    "                        start = i + 1\n",
    "                    else:\n",
    "                        root.right = dfs(s[start + 1 : i])\n",
    "            return root\n",
    "\n",
    "        return dfs(s)\n"
   ]
  },
  {
   "cell_type": "markdown",
   "id": "14b8c8a2",
   "metadata": {},
   "source": [
    "q5\n",
    "\n",
    "Given an array of characters chars, compress it using the following algorithm:\n",
    "\n",
    "Begin with an empty string s. For each group of **consecutive repeating characters** in chars:\n",
    "\n",
    "- If the group's length is 1, append the character to s.\n",
    "- Otherwise, append the character followed by the group's length.\n",
    "\n",
    "The compressed string s **should not be returned separately**, but instead, be stored **in the input character array chars**. Note that group lengths that are 10 or longer will be split into multiple characters in chars.\n",
    "\n",
    "After you are done **modifying the input array,** return *the new length of the array*.\n",
    "\n",
    "You must write an algorithm that uses only constant extra space."
   ]
  },
  {
   "cell_type": "code",
   "execution_count": 19,
   "id": "239740c5",
   "metadata": {},
   "outputs": [],
   "source": [
    "def compress(chars):\n",
    "      \n",
    "        result, cnt = 0, 1\n",
    "        j = 0\n",
    "        for i in range(1, len(chars)+1): \n",
    "            if i < len(chars) and chars[i] == chars[i-1]:\n",
    "                cnt += 1\n",
    "            else:\n",
    "                # 1) update letter\n",
    "                chars[j] = chars[i-1]\n",
    "                j += 1\n",
    "                # 2) update cnt\n",
    "                if cnt == 1:\n",
    "                    continue\n",
    "                for ch in str(cnt):\n",
    "                    chars[j] = ch\n",
    "                    j += 1\n",
    "                # 3) reset cnt\n",
    "                cnt = 1\n",
    "        return j"
   ]
  },
  {
   "cell_type": "code",
   "execution_count": 20,
   "id": "45abd4a7",
   "metadata": {},
   "outputs": [
    {
     "data": {
      "text/plain": [
       "6"
      ]
     },
     "execution_count": 20,
     "metadata": {},
     "output_type": "execute_result"
    }
   ],
   "source": [
    "chars = [\"a\",\"a\",\"b\",\"b\",\"c\",\"c\",\"c\"]\n",
    "compress(chars)"
   ]
  },
  {
   "cell_type": "markdown",
   "id": "f966248a",
   "metadata": {},
   "source": [
    "<aside>\n",
    "💡 **Question 6**\n",
    "\n",
    "Given two strings s and p, return *an array of all the start indices of* p*'s anagrams in* s. You may return the answer in **any order**.\n",
    "\n",
    "An **Anagram** is a word or phrase formed by rearranging the letters of a different word or phrase, typically using all the original letters exactly once.\n",
    "\n",
    "</aside>"
   ]
  },
  {
   "cell_type": "code",
   "execution_count": 23,
   "id": "2d5b38f9",
   "metadata": {},
   "outputs": [],
   "source": [
    "import collections"
   ]
  },
  {
   "cell_type": "code",
   "execution_count": 24,
   "id": "e1c58adf",
   "metadata": {},
   "outputs": [],
   "source": [
    "def findAnagrams(s, p):\n",
    "        res = []\n",
    "        c = collections.Counter(p)\n",
    "        cur = collections.Counter(s[:len(p)])\n",
    "        for i in range(len(s)-len(p)+1):\n",
    "            if cur==c:\n",
    "                res.append(i)\n",
    "            if i == len(s)-len(p):\n",
    "                break\n",
    "            cur[s[i]]-=1\n",
    "            if cur[s[i]]==0:\n",
    "                del cur[s[i]]\n",
    "            cur[s[i+len(p)]]+=1\n",
    "        return res"
   ]
  },
  {
   "cell_type": "code",
   "execution_count": 25,
   "id": "5a41d752",
   "metadata": {},
   "outputs": [
    {
     "data": {
      "text/plain": [
       "[0, 6]"
      ]
     },
     "execution_count": 25,
     "metadata": {},
     "output_type": "execute_result"
    }
   ],
   "source": [
    "s = \"cbaebabacd\"\n",
    "p = \"abc\"\n",
    "findAnagrams(s, p)"
   ]
  },
  {
   "cell_type": "markdown",
   "id": "12808f6c",
   "metadata": {},
   "source": [
    "<aside>\n",
    "💡 **Question 7**\n",
    "\n",
    "Given an encoded string, return its decoded string.\n",
    "\n",
    "The encoding rule is: k[encoded_string], where the encoded_string inside the square brackets is being repeated exactly k times. Note that k is guaranteed to be a positive integer.\n",
    "\n",
    "You may assume that the input string is always valid; there are no extra white spaces, square brackets are well-formed, etc. Furthermore, you may assume that the original data does not contain any digits and that digits are only for those repeat numbers, k. For example, there will not be input like 3a or 2[4].\n",
    "\n",
    "The test cases are generated so that the length of the output will never exceed 105.\n",
    "\n",
    "</aside>"
   ]
  },
  {
   "cell_type": "code",
   "execution_count": 26,
   "id": "8eb7b752",
   "metadata": {},
   "outputs": [],
   "source": [
    "def decodeString(s: str) -> str:\n",
    "        num = 0\n",
    "        string = ''\n",
    "        stack = []\n",
    "        for c in s:\n",
    "            if c.isdigit():\n",
    "                num = num*10 + int(c)\n",
    "            elif c == \"[\":\n",
    "                stack.append(string)\n",
    "                stack.append(num)\n",
    "                string = ''\n",
    "                num = 0\n",
    "            elif c.isalpha():\n",
    "                string += c\n",
    "            elif c == ']':\n",
    "                pre_num = stack.pop()\n",
    "                pre_string = stack.pop()\n",
    "                string = pre_string + pre_num * string\n",
    "        return string"
   ]
  },
  {
   "cell_type": "code",
   "execution_count": 27,
   "id": "15ab4d1e",
   "metadata": {},
   "outputs": [
    {
     "data": {
      "text/plain": [
       "'aaabcbc'"
      ]
     },
     "execution_count": 27,
     "metadata": {},
     "output_type": "execute_result"
    }
   ],
   "source": [
    "s = \"3[a]2[bc]\"\n",
    "decodeString(s)"
   ]
  },
  {
   "cell_type": "code",
   "execution_count": null,
   "id": "9d24aab4",
   "metadata": {},
   "outputs": [],
   "source": []
  }
 ],
 "metadata": {
  "kernelspec": {
   "display_name": "Python 3 (ipykernel)",
   "language": "python",
   "name": "python3"
  },
  "language_info": {
   "codemirror_mode": {
    "name": "ipython",
    "version": 3
   },
   "file_extension": ".py",
   "mimetype": "text/x-python",
   "name": "python",
   "nbconvert_exporter": "python",
   "pygments_lexer": "ipython3",
   "version": "3.9.13"
  }
 },
 "nbformat": 4,
 "nbformat_minor": 5
}
