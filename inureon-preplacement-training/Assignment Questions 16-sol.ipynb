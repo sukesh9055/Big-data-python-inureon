{
 "cells": [
  {
   "cell_type": "markdown",
   "id": "e2d49de7",
   "metadata": {},
   "source": [
    "<aside>\n",
    "💡 **Question 1**\n",
    "\n",
    "Given an array, for each element find the value of the nearest element to the right which is having a frequency greater than that of the current element. If there does not exist an answer for a position, then make the value ‘-1’.\n",
    "\n",
    "</aside>"
   ]
  },
  {
   "cell_type": "code",
   "execution_count": 1,
   "id": "a06d3258",
   "metadata": {},
   "outputs": [
    {
     "name": "stdout",
     "output_type": "stream",
     "text": [
      "[-1, -1, 1, 2, 2, 1, -1]\n"
     ]
    }
   ],
   "source": [
    "def NFG(a, n):\n",
    " \n",
    "    if (n <= 0):\n",
    "        print(\"List empty\")\n",
    "        return []\n",
    "\n",
    "    stack = [0]*n\n",
    "\n",
    "    freq = {}\n",
    "    for i in a:\n",
    "        freq[a[i]] = 0\n",
    "    for i in a:\n",
    "        freq[a[i]] += 1\n",
    "\n",
    "    res = [0]*n\n",
    "\n",
    "    top = -1\n",
    "\n",
    "    top += 1\n",
    "    stack[top] = 0\n",
    "\n",
    "    for i in range(1, n):\n",
    "\n",
    "        if (freq[a[stack[top]]] > freq[a[i]]):\n",
    "            top += 1\n",
    "            stack[top] = i\n",
    " \n",
    "        else:\n",
    "\n",
    "            while (top > -1 and freq[a[stack[top]]] < freq[a[i]]):\n",
    "                res[stack[top]] = a[i]\n",
    "                top -= 1\n",
    "\n",
    "            top += 1\n",
    "            stack[top] = i\n",
    "\n",
    "    while (top > -1):\n",
    "        res[stack[top]] = -1\n",
    "        top -= 1\n",
    "\n",
    "    return res\n",
    "\n",
    "print(NFG([1, 1, 2, 3, 4, 2, 1], 7))"
   ]
  },
  {
   "cell_type": "markdown",
   "id": "5d18706e",
   "metadata": {},
   "source": [
    "<aside>\n",
    "💡 **Question 2**\n",
    "\n",
    "Given a stack of integers, sort it in ascending order using another temporary stack.\n",
    "\n",
    "</aside>"
   ]
  },
  {
   "cell_type": "code",
   "execution_count": 2,
   "id": "91b19dff",
   "metadata": {},
   "outputs": [
    {
     "name": "stdout",
     "output_type": "stream",
     "text": [
      "Sorted numbers are: \n",
      "3 23 31 34 92 98 \n"
     ]
    }
   ],
   "source": [
    "def sortStack ( stack ):\n",
    "    tmpStack = createStack()\n",
    "    while(isEmpty(stack) == False):\n",
    "\n",
    "        tmp = top(stack)\n",
    "        pop(stack)\n",
    "\n",
    "        while(isEmpty(tmpStack) == False and\n",
    "             int(top(tmpStack)) < int(tmp)):\n",
    "\n",
    "            push(stack,top(tmpStack))\n",
    "            pop(tmpStack)\n",
    "\n",
    "        push(tmpStack,tmp)\n",
    "     \n",
    "    return tmpStack\n",
    "\n",
    "def createStack():\n",
    "    stack = []\n",
    "    return stack\n",
    "\n",
    "def isEmpty( stack ):\n",
    "    return len(stack) == 0\n",
    "\n",
    "def push( stack, item ):\n",
    "    stack.append( item )\n",
    "\n",
    "def top( stack ):\n",
    "    p = len(stack)\n",
    "    return stack[p-1]\n",
    "\n",
    "def pop( stack ):\n",
    "\n",
    "    if(isEmpty( stack )):\n",
    "        print(\"Stack Underflow \")\n",
    "        exit(1)\n",
    " \n",
    "    return stack.pop()\n",
    "\n",
    "def prints(stack):\n",
    "    for i in range(len(stack)-1, -1, -1):\n",
    "        print(stack[i], end = ' ')\n",
    "    print()\n",
    "\n",
    "stack = createStack()\n",
    "push( stack, str(34) )\n",
    "push( stack, str(3) )\n",
    "push( stack, str(31) )\n",
    "push( stack, str(98) )\n",
    "push( stack, str(92) )\n",
    "push( stack, str(23) )\n",
    " \n",
    "print(\"Sorted numbers are: \")\n",
    "sortedst = sortStack ( stack )\n",
    "prints(sortedst)"
   ]
  },
  {
   "cell_type": "markdown",
   "id": "5eb04b99",
   "metadata": {},
   "source": [
    "<aside>\n",
    "💡 **Question 3**\n",
    "\n",
    "Given a stack with **push()**, **pop()**, and **empty()** operations, The task is to delete the **middle** element ****of it without using any additional data structure.\n",
    "\n",
    "</aside>"
   ]
  },
  {
   "cell_type": "code",
   "execution_count": 3,
   "id": "63704e6d",
   "metadata": {},
   "outputs": [
    {
     "name": "stdout",
     "output_type": "stream",
     "text": [
      "7 6 5 3 2 1 "
     ]
    }
   ],
   "source": [
    "class Stack:\n",
    "    def __init__(self):\n",
    "        self.items = []\n",
    "      \n",
    "    def isEmpty(self):\n",
    "        return self.items == []\n",
    "      \n",
    "    def push(self, item):\n",
    "        self.items.append(item)\n",
    "      \n",
    "    def pop(self):\n",
    "        return self.items.pop()\n",
    "      \n",
    "    def peek(self):\n",
    "        return self.items[len(self.items)-1]\n",
    "      \n",
    "    def size(self):\n",
    "        return len(self.items)\n",
    "          \n",
    "def deleteMid(st, n, curr) :\n",
    "\n",
    "    if (st.isEmpty() or curr == n) :\n",
    "        return\n",
    "\n",
    "    x = st.peek()\n",
    "    st.pop()\n",
    "\n",
    "    deleteMid(st, n, curr+1)\n",
    "\n",
    "    if (curr != int(n/2)) :\n",
    "        st.push(x)\n",
    "\n",
    "st = Stack()\n",
    "\n",
    "st.push('1')\n",
    "st.push('2')\n",
    "st.push('3')\n",
    "st.push('4')\n",
    "st.push('5')\n",
    "st.push('6')\n",
    "st.push('7')\n",
    "  \n",
    "deleteMid(st, st.size(), 0)\n",
    "\n",
    "while (st.isEmpty() == False) :\n",
    "    p = st.peek()\n",
    "    st.pop()\n",
    "    print (str(p) + \" \", end=\"\")"
   ]
  },
  {
   "cell_type": "markdown",
   "id": "54f6be18",
   "metadata": {},
   "source": [
    "<aside>\n",
    "💡 **Question 4**\n",
    "\n",
    "Given a Queue consisting of first **n** natural numbers (in random order). The task is to check whether the given Queue elements can be arranged in increasing order in another Queue using a stack. The operation allowed are:\n",
    "\n",
    "1. Push and pop elements from the stack\n",
    "2. Pop (Or Dequeue) from the given Queue.\n",
    "3. Push (Or Enqueue) in the another Queue.\n",
    "</aside>"
   ]
  },
  {
   "cell_type": "code",
   "execution_count": 4,
   "id": "d60dc6cb",
   "metadata": {},
   "outputs": [
    {
     "name": "stdout",
     "output_type": "stream",
     "text": [
      "Yes\n"
     ]
    }
   ],
   "source": [
    "from queue import Queue\n",
    "\n",
    "def checkSorted(n, q):\n",
    "    st = []\n",
    "    expected = 1\n",
    "    fnt = None\n",
    "\n",
    "    while (not q.empty()):\n",
    "        fnt = q.queue[0]\n",
    "        q.get()\n",
    "\n",
    "        if (fnt == expected):\n",
    "            expected += 1\n",
    " \n",
    "        else:\n",
    "\n",
    "            if (len(st) == 0):\n",
    "                st.append(fnt)\n",
    "\n",
    "            elif (len(st) != 0 and st[-1] < fnt):\n",
    "                return False\n",
    "\n",
    "            else:\n",
    "                st.append(fnt)\n",
    "\n",
    "        while (len(st) != 0 and\n",
    "                   st[-1] == expected):\n",
    "            st.pop()\n",
    "            expected += 1\n",
    "\n",
    "    if (expected - 1 == n and len(st) == 0):\n",
    "        return True\n",
    " \n",
    "    return False\n",
    "\n",
    "\n",
    "    q = Queue()\n",
    "    q.put(5)\n",
    "    q.put(1)\n",
    "    q.put(2)\n",
    "    q.put(3)\n",
    "    q.put(4)\n",
    " \n",
    "    n = q.qsize()\n",
    " \n",
    "    if checkSorted(n, q):\n",
    "        print(\"Yes\")\n",
    "    else:\n",
    "        print(\"No\")"
   ]
  },
  {
   "cell_type": "markdown",
   "id": "3103a4d1",
   "metadata": {},
   "source": [
    "<aside>\n",
    "💡 **Question 5**\n",
    "\n",
    "Given a number , write a program to reverse this number using stack.\n",
    "\n",
    "</aside>"
   ]
  },
  {
   "cell_type": "code",
   "execution_count": 5,
   "id": "013995fd",
   "metadata": {},
   "outputs": [
    {
     "name": "stdout",
     "output_type": "stream",
     "text": [
      "79993\n"
     ]
    }
   ],
   "source": [
    "st = [];\n",
    "\n",
    "def push_digits(number):\n",
    " \n",
    "    while (number != 0):\n",
    "        st.append(number % 10);\n",
    "        number = int(number / 10);\n",
    "\n",
    "def reverse_number(number):\n",
    "\n",
    "    push_digits(number);\n",
    "     \n",
    "    reverse = 0;\n",
    "    i = 1;\n",
    "\n",
    "    while (len(st) > 0):\n",
    "        reverse = reverse + (st[len(st) - 1] * i);\n",
    "        st.pop();\n",
    "        i = i * 10;\n",
    "\n",
    "    return reverse;\n",
    "\n",
    "number = 39997;\n",
    "\n",
    "print(reverse_number(number));"
   ]
  },
  {
   "cell_type": "markdown",
   "id": "fdf63f48",
   "metadata": {},
   "source": [
    "<aside>\n",
    "💡 **Question 6**\n",
    "\n",
    "Given an integer k and a **[queue](https://www.geeksforgeeks.org/queue-data-structure/)** of integers, The task is to reverse the order of the first **k** elements of the queue, leaving the other elements in the same relative order.\n",
    "\n",
    "Only following standard operations are allowed on queue.\n",
    "\n",
    "- **enqueue(x) :** Add an item x to rear of queue\n",
    "- **dequeue() :** Remove an item from front of queue\n",
    "- **size() :** Returns number of elements in queue.\n",
    "- **front() :** Finds front item.\n",
    "</aside>"
   ]
  },
  {
   "cell_type": "code",
   "execution_count": 6,
   "id": "0ce82779",
   "metadata": {},
   "outputs": [
    {
     "name": "stdout",
     "output_type": "stream",
     "text": [
      "50 40 30 20 10 60 70 80 90 100 "
     ]
    }
   ],
   "source": [
    "from collections import deque\n",
    " \n",
    "def reverse_first_k(q, k):\n",
    "    solve(q, k)\n",
    "    s = len(q) - k\n",
    "    for _ in range(s):\n",
    "        x = q.popleft()\n",
    "        q.append(x)\n",
    "    return q\n",
    " \n",
    "def solve(q, k):\n",
    "    if k == 0:\n",
    "        return\n",
    "    e = q.popleft()\n",
    "    solve(q, k - 1)\n",
    "    q.append(e)\n",
    "\n",
    "queue = deque([10, 20, 30, 40, 50, 60, 70, 80, 90, 100])\n",
    "k = 5\n",
    "queue = reverse_first_k(queue, k)\n",
    "\n",
    "while queue:\n",
    "    print(queue.popleft(), end=' ')"
   ]
  },
  {
   "cell_type": "markdown",
   "id": "f2d2fe9d",
   "metadata": {},
   "source": [
    "<aside>\n",
    "💡 **Question 7**\n",
    "\n",
    "Given a sequence of n strings, the task is to check if any two similar words come together and then destroy each other then print the number of words left in the sequence after this pairwise destruction.\n",
    "\n",
    "</aside>"
   ]
  },
  {
   "cell_type": "code",
   "execution_count": 7,
   "id": "d6c45ebe",
   "metadata": {},
   "outputs": [],
   "source": [
    "def removeConsecutiveSame(v):\n",
    " \n",
    "    n = len(v)\n",
    "\n",
    "    i = 0\n",
    "    while(i < n - 1):\n",
    "\n",
    "        if ((i + 1) < len(v)) and (v[i] == v[i + 1]):\n",
    "\n",
    "            v = v[:i]\n",
    "            v = v[:i]\n",
    "\n",
    "            if (i > 0):\n",
    "                i -= 1\n",
    "\n",
    "            n = n - 2\n",
    "\n",
    "        else:\n",
    "            i += 1\n",
    "\n",
    "    return len(v[:i - 1])\n"
   ]
  },
  {
   "cell_type": "code",
   "execution_count": 8,
   "id": "bc46f650",
   "metadata": {},
   "outputs": [
    {
     "name": "stdout",
     "output_type": "stream",
     "text": [
      "0\n"
     ]
    }
   ],
   "source": [
    "v = [\"tom\", \"jerry\", \"jerry\", \"tom\"]\n",
    "print(removeConsecutiveSame(v))"
   ]
  },
  {
   "cell_type": "markdown",
   "id": "fdbfc972",
   "metadata": {},
   "source": [
    "<aside>\n",
    "💡 **Question 8**\n",
    "\n",
    "Given an array of integers, the task is to find the maximum absolute difference between the nearest left and the right smaller element of every element in the array.\n",
    "\n",
    "**Note:** If there is no smaller element on right side or left side of any element then we take zero as the smaller element. For example for the leftmost element, the nearest smaller element on the left side is considered as 0. Similarly, for rightmost elements, the smaller element on the right side is considered as 0.\n",
    "\n",
    "</aside>"
   ]
  },
  {
   "cell_type": "code",
   "execution_count": 9,
   "id": "da201d3b",
   "metadata": {},
   "outputs": [],
   "source": [
    "def leftsmaller(arr, n, SE):\n",
    "\n",
    "    sta = []\n",
    "\n",
    "    for i in range(n):\n",
    "\n",
    "        while(sta != [] and sta[len(sta)-1] >= arr[i]):\n",
    "            sta.pop()\n",
    "\n",
    "        if(sta != []):\n",
    "            SE[i]=sta[len(sta)-1]\n",
    "\n",
    "        else:\n",
    "            SE[i]=0\n",
    "\n",
    "        sta.append(arr[i])\n",
    "\n",
    "def findMaxDiff(arr, n):\n",
    "    ls=[0]*n \n",
    "    rs=[0]*n \n",
    "\n",
    "    leftsmaller(arr, n, ls)\n",
    " \n",
    "    leftsmaller(arr[::-1], n, rs)\n",
    "\n",
    "    res = -1\n",
    "    for i in range(n):\n",
    "        res = max(res, abs(ls[i] - rs[n-1-i]))\n",
    "\n",
    "    return res\n"
   ]
  },
  {
   "cell_type": "code",
   "execution_count": null,
   "id": "238c266a",
   "metadata": {},
   "outputs": [],
   "source": []
  }
 ],
 "metadata": {
  "kernelspec": {
   "display_name": "Python 3 (ipykernel)",
   "language": "python",
   "name": "python3"
  },
  "language_info": {
   "codemirror_mode": {
    "name": "ipython",
    "version": 3
   },
   "file_extension": ".py",
   "mimetype": "text/x-python",
   "name": "python",
   "nbconvert_exporter": "python",
   "pygments_lexer": "ipython3",
   "version": "3.9.13"
  }
 },
 "nbformat": 4,
 "nbformat_minor": 5
}
