{
 "cells": [
  {
   "cell_type": "markdown",
   "id": "a484f128",
   "metadata": {},
   "source": [
    "<aside>\n",
    "💡 Question-1\n",
    "\n",
    "Given a binary tree, your task is to find subtree with maximum sum in tree.\n",
    "\n",
    "</aside>"
   ]
  },
  {
   "cell_type": "code",
   "execution_count": 1,
   "id": "88e010bf",
   "metadata": {},
   "outputs": [
    {
     "name": "stdout",
     "output_type": "stream",
     "text": [
      "7\n"
     ]
    }
   ],
   "source": [
    "class Node:\n",
    "    def __init__(self, data):\n",
    "        self.data = data \n",
    "        self.left = None \n",
    "        self.right = None\n",
    "\n",
    "ans = float(\"-infinity\")\n",
    "def findLargestSubtreeSum(root):\n",
    "    if root is None:\n",
    "        return 0\n",
    "    if root.left is None and root.right is None:\n",
    "        return root.data\n",
    "\n",
    "    sumleft = findLargestSubtreeSum(root.left)\n",
    "\n",
    "    sumright = findLargestSubtreeSum(root.right)\n",
    "\n",
    "    sumrootnode = sumleft + sumright + root.data\n",
    "\n",
    "    tempmax = max(sumleft, sumright)\n",
    "    tempmax = max(tempmax, sumrootnode)\n",
    "\n",
    "    global ans\n",
    "    ans = max(ans, tempmax)\n",
    "    return sumrootnode\n",
    "\n",
    "if __name__ == '__main__':\n",
    "    root = Node(1)\n",
    "    root.left = Node(-2)\n",
    "    root.right = Node(3)\n",
    "    root.left.left = Node(4)\n",
    "    root.left.right = Node(5)\n",
    "    root.right.left = Node(-6)\n",
    "    root.right.right = Node(2)\n",
    "    findLargestSubtreeSum(root)\n",
    "    print(ans)"
   ]
  },
  {
   "cell_type": "markdown",
   "id": "6504a00a",
   "metadata": {},
   "source": [
    "<aside>\n",
    "💡 Question-2\n",
    "\n",
    "Construct the BST (Binary Search Tree) from its given level order traversal.\n",
    "\n",
    "</aside>"
   ]
  },
  {
   "cell_type": "code",
   "execution_count": 4,
   "id": "7d064e07",
   "metadata": {},
   "outputs": [
    {
     "name": "stdout",
     "output_type": "stream",
     "text": [
      "Inorder Traversal: \n",
      "1 3 4 5 6 7 8 10 12 "
     ]
    }
   ],
   "source": [
    "from collections import deque\n",
    "\n",
    "class Node:\n",
    "    def __init__(self, data):\n",
    "        self.data = data\n",
    "        self.left = None\n",
    "        self.right = None\n",
    " \n",
    " \n",
    "def constructBst(arr, n):\n",
    "    queue = deque()\n",
    "    if n == 0:\n",
    "        return None\n",
    "\n",
    "    root = Node(arr[0])\n",
    "    head = root\n",
    "\n",
    "    queue.append((root, (-float(\"inf\"), float(\"inf\"))))\n",
    "    i = 1\n",
    "\n",
    "    while i < n:\n",
    "\n",
    "        temp = queue[0][0]\n",
    "        tempRange = queue[0][1]\n",
    "        queue.popleft()\n",
    "\n",
    "        if (arr[i] < temp.data) and tempRange[0] < arr[i] < tempRange[1]:\n",
    "\n",
    "            temp.left = Node(arr[i])\n",
    "            queue.append((temp.left, (tempRange[0], temp.data)))\n",
    "            i += 1\n",
    "\n",
    "        if arr[i] > temp.data and tempRange[0] < arr[i] < tempRange[1]:\n",
    "\n",
    "            temp.right = Node(arr[i])\n",
    "            queue.append((temp.right, (temp.data, tempRange[1])))\n",
    "            i += 1\n",
    "    return head\n",
    " \n",
    " \n",
    "def inorderTraversal(root):\n",
    "    if (root == None):\n",
    "        return None\n",
    " \n",
    "    inorderTraversal(root.left)\n",
    "    print(root.data, end=\" \")\n",
    "    inorderTraversal(root.right)\n",
    "\n",
    "if __name__ == '__main__':\n",
    " \n",
    "    arr = [7, 4, 12, 3, 6, 8, 1, 5, 10]\n",
    "    n = len(arr)\n",
    " \n",
    "    root = constructBst(arr, n)\n",
    " \n",
    "    print(\"Inorder Traversal: \")\n",
    "    root = inorderTraversal(root)"
   ]
  },
  {
   "cell_type": "markdown",
   "id": "1c2280d3",
   "metadata": {},
   "source": [
    "<aside>\n",
    "💡 Question-3\n",
    "\n",
    "Given an array of size n. The problem is to check whether the given array can represent the level order traversal of a Binary Search Tree or not.\n",
    "\n",
    "</aside>"
   ]
  },
  {
   "cell_type": "code",
   "execution_count": 5,
   "id": "563c55f9",
   "metadata": {},
   "outputs": [
    {
     "name": "stdout",
     "output_type": "stream",
     "text": [
      "Yes\n"
     ]
    }
   ],
   "source": [
    "INT_MIN, INT_MAX = float('-inf'), float('inf')\n",
    "\n",
    "class NodeDetails:\n",
    " \n",
    "    def __init__(self, data, min, max):\n",
    "        self.data = data\n",
    "        self.min = min\n",
    "        self.max = max\n",
    "\n",
    "def levelOrderIsOfBST(arr, n):\n",
    "\n",
    "    if n == 0:\n",
    "        return True\n",
    "\n",
    "    q = []\n",
    "\n",
    "    i = 0\n",
    "\n",
    "    newNode = NodeDetails(arr[i], INT_MIN, INT_MAX)\n",
    "    i += 1\n",
    "    q.append(newNode)\n",
    "\n",
    "    while i != n and len(q) != 0:    \n",
    "\n",
    "        temp = q.pop(0)\n",
    "\n",
    "        if i < n and (arr[i] < temp.data and\n",
    "                    arr[i] > temp.min):\n",
    "\n",
    "            newNode = NodeDetails(arr[i], temp.min, temp.data)\n",
    "            i += 1\n",
    "            q.append(newNode)            \n",
    "\n",
    "        if i < n and (arr[i] > temp.data and\n",
    "                    arr[i] < temp.max):\n",
    "\n",
    "            newNode = NodeDetails(arr[i], temp.data, temp.max)\n",
    "            i += 1\n",
    "            q.append(newNode)        \n",
    "\n",
    "    if i == n:\n",
    "        return True\n",
    "\n",
    "    return False       \n",
    "\n",
    "if __name__ == \"__main__\":\n",
    " \n",
    "    arr = [7, 4, 12, 3, 6, 8, 1, 5, 10]\n",
    "    n = len(arr)    \n",
    "    if levelOrderIsOfBST(arr, n):\n",
    "        print(\"Yes\")\n",
    "    else:\n",
    "        print(\"No\")"
   ]
  },
  {
   "cell_type": "code",
   "execution_count": null,
   "id": "65ba63ea",
   "metadata": {},
   "outputs": [],
   "source": []
  }
 ],
 "metadata": {
  "kernelspec": {
   "display_name": "Python 3 (ipykernel)",
   "language": "python",
   "name": "python3"
  },
  "language_info": {
   "codemirror_mode": {
    "name": "ipython",
    "version": 3
   },
   "file_extension": ".py",
   "mimetype": "text/x-python",
   "name": "python",
   "nbconvert_exporter": "python",
   "pygments_lexer": "ipython3",
   "version": "3.9.13"
  }
 },
 "nbformat": 4,
 "nbformat_minor": 5
}
