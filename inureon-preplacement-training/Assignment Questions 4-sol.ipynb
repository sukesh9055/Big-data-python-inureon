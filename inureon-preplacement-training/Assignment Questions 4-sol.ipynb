{
 "cells": [
  {
   "cell_type": "markdown",
   "id": "43322b36",
   "metadata": {},
   "source": [
    "Question 1\n",
    "Given three integer arrays arr1, arr2 and arr3 sorted in strictly increasing order, return a sorted array of only the integers that appeared in all three arrays."
   ]
  },
  {
   "cell_type": "code",
   "execution_count": 1,
   "id": "aa881db1",
   "metadata": {},
   "outputs": [],
   "source": [
    "def commonelements(ar1, ar2, ar3):\n",
    "    n1, n2, n3 = len(ar1), len(ar2), len(ar3)\n",
    "    i, j, k = 0, 0, 0\n",
    "    common = []\n",
    "    while i < n1 and j < n2 and k < n3:\n",
    "        if ar1[i] == ar2[j] == ar3[k]:\n",
    "            common.append(ar1[i])\n",
    "            i += 1\n",
    "            j += 1\n",
    "            k += 1\n",
    "        elif ar1[i] < ar2[j]:\n",
    "            i += 1\n",
    "        elif ar2[j] < ar3[k]:\n",
    "            j += 1\n",
    "        else:\n",
    "            k += 1\n",
    "    return common"
   ]
  },
  {
   "cell_type": "code",
   "execution_count": 2,
   "id": "4967ccad",
   "metadata": {},
   "outputs": [
    {
     "name": "stdout",
     "output_type": "stream",
     "text": [
      "[1, 5]\n"
     ]
    }
   ],
   "source": [
    "arr1 = [1,2,3,4,5]\n",
    "arr2 = [1,2,5,7,9]\n",
    "arr3 = [1,3,4,5,8]\n",
    "print(commonelements(arr1, arr2, arr3))"
   ]
  },
  {
   "cell_type": "markdown",
   "id": "11e62016",
   "metadata": {},
   "source": [
    "<aside>\n",
    "💡 **Question 2**\n",
    "\n",
    "Given two **0-indexed** integer arrays nums1 and nums2, return *a list* answer *of size* 2 *where:*\n",
    "\n",
    "- answer[0] *is a list of all **distinct** integers in* nums1 *which are **not** present in* nums2*.*\n",
    "- answer[1] *is a list of all **distinct** integers in* nums2 *which are **not** present in* nums1.\n",
    "</aside>"
   ]
  },
  {
   "cell_type": "code",
   "execution_count": 4,
   "id": "9c2904ab",
   "metadata": {},
   "outputs": [],
   "source": [
    "def findDifference( nums1: list[int], nums2: list[int]) -> list[list[int]]:        \n",
    "        c1 = set(nums1)\n",
    "        c2 = set(nums2)\n",
    "        return [list(c1.difference(c2)), list(c2.difference(c1))]"
   ]
  },
  {
   "cell_type": "code",
   "execution_count": 5,
   "id": "93af9fea",
   "metadata": {},
   "outputs": [
    {
     "data": {
      "text/plain": [
       "[[1, 3], [4, 6]]"
      ]
     },
     "execution_count": 5,
     "metadata": {},
     "output_type": "execute_result"
    }
   ],
   "source": [
    "nums1 = [1,2,3]\n",
    "nums2 = [2,4,6]\n",
    "findDifference(nums1,nums2)"
   ]
  },
  {
   "cell_type": "markdown",
   "id": "a69e2d83",
   "metadata": {},
   "source": [
    "<aside>\n",
    "    q3\n",
    "💡 Given a 2D integer array matrix, return *the **transpose** of* matrix.\n",
    "\n",
    "The **transpose** of a matrix is the matrix flipped over its main diagonal, switching the matrix's row and column indices.\n",
    "\n",
    "</aside>"
   ]
  },
  {
   "cell_type": "code",
   "execution_count": 9,
   "id": "569b68aa",
   "metadata": {},
   "outputs": [],
   "source": [
    "N=3\n",
    "def transpose(A):\n",
    "    for i in range(N):\n",
    "        for j in range(i+1, N):\n",
    "            A[i][j], A[j][i] = A[j][i], A[i][j]\n",
    "  "
   ]
  },
  {
   "cell_type": "code",
   "execution_count": 12,
   "id": "b9b98eae",
   "metadata": {},
   "outputs": [
    {
     "name": "stdout",
     "output_type": "stream",
     "text": [
      "1  4  7  \n",
      "2  5  8  \n",
      "3  6  9  \n"
     ]
    }
   ],
   "source": [
    "A = [[1,2,3],[4,5,6],[7,8,9]]\n",
    "transpose(A)\n",
    "  \n",
    "\n",
    "for i in range(N):\n",
    "    for j in range(N):\n",
    "        print(A[i][j], \" \", end='')\n",
    "    print()"
   ]
  },
  {
   "cell_type": "markdown",
   "id": "cc3e0d69",
   "metadata": {},
   "source": [
    "Question 4\n",
    "\n",
    "Given an integer array nums of 2n integers, group these integers into n pairs (a1, b1), (a2, b2), ..., (an, bn) such that the sum of min(ai, bi) for all i is maximized. Return the maximized sum.\n"
   ]
  },
  {
   "cell_type": "code",
   "execution_count": 15,
   "id": "170d8214",
   "metadata": {},
   "outputs": [],
   "source": [
    "def arrayPairSum(nums: list[int]) -> int:\n",
    "    return sum(sorted(nums)[::2])"
   ]
  },
  {
   "cell_type": "code",
   "execution_count": 16,
   "id": "c597ca8a",
   "metadata": {},
   "outputs": [
    {
     "data": {
      "text/plain": [
       "4"
      ]
     },
     "execution_count": 16,
     "metadata": {},
     "output_type": "execute_result"
    }
   ],
   "source": [
    "nums = [1,4,3,2]\n",
    "arrayPairSum(nums)"
   ]
  },
  {
   "cell_type": "markdown",
   "id": "e1344e52",
   "metadata": {},
   "source": [
    "<aside>\n",
    "💡 **Question 5**\n",
    "You have n coins and you want to build a staircase with these coins. The staircase consists of k rows where the ith row has exactly i coins. The last row of the staircase **may be** incomplete.\n",
    "\n",
    "Given the integer n, return *the number of **complete rows** of the staircase you will build*.\n",
    "\n",
    "</aside>"
   ]
  },
  {
   "cell_type": "code",
   "execution_count": 17,
   "id": "f3b1230d",
   "metadata": {},
   "outputs": [],
   "source": [
    "def arrangeCoins(n: int) -> int:\n",
    "        rows = 0\n",
    "        i = 1\n",
    "        \n",
    "        while n >= i:\n",
    "            n-=i\n",
    "            rows+=1\n",
    "            i+=1\n",
    "               \n",
    "        return rows"
   ]
  },
  {
   "cell_type": "code",
   "execution_count": 18,
   "id": "913e366f",
   "metadata": {},
   "outputs": [
    {
     "data": {
      "text/plain": [
       "2"
      ]
     },
     "execution_count": 18,
     "metadata": {},
     "output_type": "execute_result"
    }
   ],
   "source": [
    "n = 5\n",
    "arrangeCoins(n)"
   ]
  },
  {
   "cell_type": "markdown",
   "id": "679979b2",
   "metadata": {},
   "source": [
    "Question 6\n",
    "\n",
    "Given an integer array nums sorted in non-decreasing order, return an array of the squares of each number sorted in non-decreasing order.\n"
   ]
  },
  {
   "cell_type": "code",
   "execution_count": 27,
   "id": "94530908",
   "metadata": {},
   "outputs": [],
   "source": [
    "def sortSquare(arr, n):\n",
    " \n",
    "    for i in range(n):\n",
    "        arr[i]= arr[i] * arr[i]\n",
    "    arr.sort()"
   ]
  },
  {
   "cell_type": "code",
   "execution_count": 32,
   "id": "2c7ced3d",
   "metadata": {},
   "outputs": [
    {
     "name": "stdout",
     "output_type": "stream",
     "text": [
      "1 4 9 16 25 36 "
     ]
    }
   ],
   "source": [
    "arr = [-6, -3, -1, 2, 4, 5]\n",
    "n = len(arr)\n",
    "sortSquare(arr, n)\n",
    "for i in range(n):\n",
    "    print(arr[i], end = \" \")"
   ]
  },
  {
   "cell_type": "markdown",
   "id": "6cb70f28",
   "metadata": {},
   "source": [
    "<aside>\n",
    "💡 **Question 8**\n",
    "\n",
    "Given the array nums consisting of 2n elements in the form [x1,x2,...,xn,y1,y2,...,yn].\n",
    "\n",
    "*Return the array in the form* [x1,y1,x2,y2,...,xn,yn].\n",
    "\n",
    "</aside>"
   ]
  },
  {
   "cell_type": "code",
   "execution_count": 34,
   "id": "b33861cb",
   "metadata": {},
   "outputs": [],
   "source": [
    "def shuffle(nums, n):\n",
    "        result = []\n",
    "        for index in range(n):\n",
    "            result.append(nums[index])\n",
    "            result.append(nums[index + n])\n",
    "        return result"
   ]
  },
  {
   "cell_type": "code",
   "execution_count": 35,
   "id": "f636127f",
   "metadata": {},
   "outputs": [
    {
     "name": "stdout",
     "output_type": "stream",
     "text": [
      "[2, 3, 5, 4, 1, 7]\n"
     ]
    }
   ],
   "source": [
    "nums = [2,5,1,3,4,7]\n",
    "n = 3\n",
    "print(shuffle(nums, n))"
   ]
  },
  {
   "cell_type": "code",
   "execution_count": null,
   "id": "b0cf7fc9",
   "metadata": {},
   "outputs": [],
   "source": []
  }
 ],
 "metadata": {
  "kernelspec": {
   "display_name": "Python 3 (ipykernel)",
   "language": "python",
   "name": "python3"
  },
  "language_info": {
   "codemirror_mode": {
    "name": "ipython",
    "version": 3
   },
   "file_extension": ".py",
   "mimetype": "text/x-python",
   "name": "python",
   "nbconvert_exporter": "python",
   "pygments_lexer": "ipython3",
   "version": "3.9.13"
  }
 },
 "nbformat": 4,
 "nbformat_minor": 5
}
