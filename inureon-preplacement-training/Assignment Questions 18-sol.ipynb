{
 "cells": [
  {
   "cell_type": "markdown",
   "id": "cd82d925",
   "metadata": {},
   "source": [
    "<aside>\n",
    "💡 1. **Merge Intervals**\n",
    "\n",
    "Given an array of `intervals` where `intervals[i] = [starti, endi]`, merge all overlapping intervals, and return *an array of the non-overlapping intervals that cover all the intervals in the input*.\n",
    "\n",
    "</aside>"
   ]
  },
  {
   "cell_type": "code",
   "execution_count": 1,
   "id": "75499478",
   "metadata": {},
   "outputs": [
    {
     "name": "stdout",
     "output_type": "stream",
     "text": [
      "The Merged Intervals are : [1, 9] "
     ]
    }
   ],
   "source": [
    "def mergeIntervals(intervals):\n",
    " \n",
    "    intervals.sort()\n",
    "    stack = []\n",
    "\n",
    "    stack.append(intervals[0])\n",
    "    for i in intervals[1:]:\n",
    "\n",
    "        if stack[-1][0] <= i[0] <= stack[-1][-1]:\n",
    "            stack[-1][-1] = max(stack[-1][-1], i[-1])\n",
    "        else:\n",
    "            stack.append(i)\n",
    " \n",
    "    print(\"The Merged Intervals are :\", end=\" \")\n",
    "    for i in range(len(stack)):\n",
    "        print(stack[i], end=\" \")\n",
    " \n",
    " \n",
    "arr = [[6, 8], [1, 9], [2, 4], [4, 7]]\n",
    "mergeIntervals(arr)"
   ]
  },
  {
   "cell_type": "markdown",
   "id": "f705f8ac",
   "metadata": {},
   "source": [
    "<aside>\n",
    "💡 2. **Sort Colors**\n",
    "\n",
    "Given an array `nums` with `n` objects colored red, white, or blue, sort them **[in-place](https://en.wikipedia.org/wiki/In-place_algorithm)** so that objects of the same color are adjacent, with the colors in the order red, white, and blue.\n",
    "\n",
    "We will use the integers `0`, `1`, and `2` to represent the color red, white, and blue, respectively.\n",
    "\n",
    "You must solve this problem without using the library's sort function.\n",
    "\n",
    "</aside>"
   ]
  },
  {
   "cell_type": "code",
   "execution_count": 1,
   "id": "e36df8ed",
   "metadata": {},
   "outputs": [],
   "source": [
    "class Solution:\n",
    "  def sortColors(self, nums: list[int]) -> None:\n",
    "    l = 0  \n",
    "    r = len(nums) - 1  \n",
    "\n",
    "    i = 0\n",
    "    while i <= r:\n",
    "      if nums[i] == 0:\n",
    "        nums[i], nums[l] = nums[l], nums[i]\n",
    "        i += 1\n",
    "        l += 1\n",
    "      elif nums[i] == 1:\n",
    "        i += 1\n",
    "      else:\n",
    "\n",
    "        nums[i], nums[r] = nums[r], nums[i]\n",
    "        r -= 1\n"
   ]
  },
  {
   "cell_type": "markdown",
   "id": "bcd323be",
   "metadata": {},
   "source": [
    "<aside>\n",
    "💡 3. **First Bad Version Solution**\n",
    "\n",
    "You are a product manager and currently leading a team to develop a new product. Unfortunately, the latest version of your product fails the quality check. Since each version is developed based on the previous version, all the versions after a bad version are also bad.\n",
    "\n",
    "Suppose you have `n` versions `[1, 2, ..., n]` and you want to find out the first bad one, which causes all the following ones to be bad.\n",
    "\n",
    "You are given an API `bool isBadVersion(version)` which returns whether `version` is bad. Implement a function to find the first bad version. You should minimize the number of calls to the API.\n",
    "\n",
    "</aside>"
   ]
  },
  {
   "cell_type": "code",
   "execution_count": 2,
   "id": "e1f7f40c",
   "metadata": {},
   "outputs": [
    {
     "name": "stdout",
     "output_type": "stream",
     "text": [
      "4\n"
     ]
    }
   ],
   "source": [
    "first_bad = 0\n",
    "def isBadVersion(version):\n",
    "   if version >= first_bad:\n",
    "      return True\n",
    "   return False\n",
    "class Solution:\n",
    "   def firstBadVersion(self, n):\n",
    "      if n <2:\n",
    "         return n\n",
    "      start = 1\n",
    "      end = n\n",
    "      while(start<=end):\n",
    "         mid = (start+end)//2\n",
    "         if isBadVersion(mid) and not isBadVersion(mid-1):\n",
    "            return mid\n",
    "         elif isBadVersion(mid-1):\n",
    "            end = mid-1\n",
    "         else:\n",
    "            start = mid+1\n",
    "ob1 = Solution()\n",
    "first_bad = 4\n",
    "op = ob1.firstBadVersion(5)\n",
    "print(op)"
   ]
  },
  {
   "cell_type": "markdown",
   "id": "6132f680",
   "metadata": {},
   "source": [
    "<aside>\n",
    "💡 4. **Maximum Gap**\n",
    "\n",
    "Given an integer array `nums`, return *the maximum difference between two successive elements in its sorted form*. If the array contains less than two elements, return `0`.\n",
    "\n",
    "You must write an algorithm that runs in linear time and uses linear extra space.\n",
    "\n",
    "</aside>"
   ]
  },
  {
   "cell_type": "code",
   "execution_count": 3,
   "id": "9229cf11",
   "metadata": {},
   "outputs": [
    {
     "name": "stdout",
     "output_type": "stream",
     "text": [
      "5\n"
     ]
    }
   ],
   "source": [
    "def maxSortedAdjacentDiff(arr, n):\n",
    "\n",
    "    maxVal, minVal = arr[0], arr[0]\n",
    "    for i in range(1, n):\n",
    "        maxVal = max(maxVal, arr[i])\n",
    "        minVal = min(minVal, arr[i])\n",
    "\n",
    "    maxBucket = [INT_MIN] * (n - 1)\n",
    "    minBucket = [INT_MAX] * (n - 1)\n",
    "\n",
    "    delta = (maxVal - minVal) // (n - 1)\n",
    "\n",
    "    for i in range(0, n):\n",
    "        if arr[i] == maxVal or arr[i] == minVal:\n",
    "            continue\n",
    "\n",
    "        index = (arr[i] - minVal) // delta\n",
    "\n",
    "        if maxBucket[index] == INT_MIN:\n",
    "            maxBucket[index] = arr[i]\n",
    "        else:\n",
    "            maxBucket[index] = max(maxBucket[index],\n",
    "                                             arr[i])\n",
    "\n",
    "        if minBucket[index] == INT_MAX:\n",
    "            minBucket[index] = arr[i]\n",
    "        else:\n",
    "            minBucket[index] = min(minBucket[index],\n",
    "                                             arr[i])\n",
    "\n",
    "    prev_val, max_gap = minVal, 0\n",
    "     \n",
    "    for i in range(0, n - 1):\n",
    "        if minBucket[i] == INT_MAX:\n",
    "            continue\n",
    "             \n",
    "        max_gap = max(max_gap,\n",
    "                      minBucket[i] - prev_val)\n",
    "        prev_val = maxBucket[i]\n",
    "     \n",
    "    max_gap = max(max_gap, maxVal - prev_val)\n",
    " \n",
    "    return max_gap\n",
    "\n",
    "if __name__ == \"__main__\":\n",
    " \n",
    "    arr = [1, 10, 5]\n",
    "    n = len(arr)\n",
    "    INT_MIN, INT_MAX = float('-inf'), float('inf')\n",
    "     \n",
    "    print(maxSortedAdjacentDiff(arr, n))"
   ]
  },
  {
   "cell_type": "markdown",
   "id": "d0247b56",
   "metadata": {},
   "source": [
    "<aside>\n",
    "💡 5. **Contains Duplicate**\n",
    "\n",
    "Given an integer array `nums`, return `true` if any value appears **at least twice** in the array, and return `false` if every element is distinct.\n",
    "\n",
    "</aside>"
   ]
  },
  {
   "cell_type": "code",
   "execution_count": 4,
   "id": "4daa3133",
   "metadata": {},
   "outputs": [
    {
     "name": "stdout",
     "output_type": "stream",
     "text": [
      "Yes\n"
     ]
    }
   ],
   "source": [
    "def checkDuplicatesWithinK(arr,  n,  k):\n",
    "\n",
    "    for i in range(n):\n",
    "        j = i + 1\n",
    "        range_ = k\n",
    "         \n",
    "  \n",
    "        while (range_ > 0 and j < n):\n",
    "            if (arr[i] == arr[j]):\n",
    "                return True\n",
    "            j += 1\n",
    "            range_ -= 1\n",
    " \n",
    "    return False\n",
    "\n",
    " \n",
    "arr = [10, 5, 3, 4, 3, 5, 6]\n",
    "n = len(arr)\n",
    "if (checkDuplicatesWithinK(arr, n, 3) == True):\n",
    "    print(\"Yes\")\n",
    "else:\n",
    "    print(\"No\")"
   ]
  },
  {
   "cell_type": "markdown",
   "id": "a048455b",
   "metadata": {},
   "source": [
    "<aside>\n",
    "💡 6. **Minimum Number of Arrows to Burst Balloons**\n",
    "\n",
    "There are some spherical balloons taped onto a flat wall that represents the XY-plane. The balloons are represented as a 2D integer array `points` where `points[i] = [xstart, xend]` denotes a balloon whose **horizontal diameter** stretches between `xstart` and `xend`. You do not know the exact y-coordinates of the balloons.\n",
    "\n",
    "Arrows can be shot up **directly vertically** (in the positive y-direction) from different points along the x-axis. A balloon with `xstart` and `xend` is **burst** by an arrow shot at `x` if `xstart <= x <= xend`. There is **no limit** to the number of arrows that can be shot. A shot arrow keeps traveling up infinitely, bursting any balloons in its path.\n",
    "\n",
    "Given the array `points`, return *the **minimum** number of arrows that must be shot to burst all balloons*.\n",
    "\n",
    "</aside>"
   ]
  },
  {
   "cell_type": "code",
   "execution_count": 8,
   "id": "0f2a95d3",
   "metadata": {},
   "outputs": [],
   "source": [
    "\n",
    "    def findMinArrowShots(points: list[list[int]]) -> int:\n",
    "        n = len(points)\n",
    "        points.sort()\n",
    "        ans = 1\n",
    "        top = points[0][1]\n",
    "        for i in range(1,n):\n",
    "            if points[i][0]<=top:\n",
    "                top = min(top,points[i][1])\n",
    "            else:\n",
    "                top=points[i][1]\n",
    "                ans += 1\n",
    "        return ans"
   ]
  },
  {
   "cell_type": "code",
   "execution_count": 9,
   "id": "1cf01e9c",
   "metadata": {},
   "outputs": [
    {
     "data": {
      "text/plain": [
       "2"
      ]
     },
     "execution_count": 9,
     "metadata": {},
     "output_type": "execute_result"
    }
   ],
   "source": [
    "points = [[10,16],[2,8],[1,6],[7,12]]\n",
    "findMinArrowShots(points)"
   ]
  },
  {
   "cell_type": "markdown",
   "id": "8aef33c1",
   "metadata": {},
   "source": [
    "<aside>\n",
    "💡 7. **Longest Increasing Subsequence**\n",
    "\n",
    "Given an integer array `nums`, return *the length of the longest **strictly increasing***\n",
    "\n",
    "***subsequence***\n",
    "\n",
    "</aside>"
   ]
  },
  {
   "cell_type": "code",
   "execution_count": 10,
   "id": "46e34ddc",
   "metadata": {},
   "outputs": [],
   "source": [
    "def lis(arr):\n",
    "    n = len(arr)\n",
    "\n",
    "    lis = [1]*n\n",
    "\n",
    "    for i in range(1, n):\n",
    "        for j in range(0, i):\n",
    "            if arr[i] > arr[j] and lis[i] < lis[j] + 1:\n",
    "                lis[i] = lis[j]+1\n",
    "\n",
    "    maximum = 0\n",
    "\n",
    "    for i in range(n):\n",
    "        maximum = max(maximum, lis[i])\n",
    " \n",
    "    return maximum\n"
   ]
  },
  {
   "cell_type": "code",
   "execution_count": 12,
   "id": "fe74d4fb",
   "metadata": {},
   "outputs": [
    {
     "name": "stdout",
     "output_type": "stream",
     "text": [
      "Length of lis is 5\n"
     ]
    }
   ],
   "source": [
    "arr = [10, 22, 9, 33, 21, 50, 41, 60]\n",
    "print(\"Length of lis is\", lis(arr))"
   ]
  },
  {
   "cell_type": "markdown",
   "id": "643dbebf",
   "metadata": {},
   "source": [
    "<aside>\n",
    "💡 8. **132 Pattern**\n",
    "\n",
    "Given an array of `n` integers `nums`, a **132 pattern** is a subsequence of three integers `nums[i]`, `nums[j]` and `nums[k]` such that `i < j < k` and `nums[i] < nums[k] < nums[j]`.\n",
    "\n",
    "Return `true` *if there is a **132 pattern** in* `nums`*, otherwise, return* `false`*.*\n",
    "\n",
    "</aside>"
   ]
  },
  {
   "cell_type": "code",
   "execution_count": 13,
   "id": "035844a8",
   "metadata": {},
   "outputs": [],
   "source": [
    "def recreationalSpot(arr, n) :\n",
    " \n",
    "    small = [];\n",
    "\n",
    "    min1 = arr[0];\n",
    "    for i in range(n) :\n",
    "        if (min1 >= arr[i]) :\n",
    "            min1 = arr[i];\n",
    " \n",
    "            small.append(-1);\n",
    "             \n",
    "        else :\n",
    "\n",
    "            small.append(min1);\n",
    "\n",
    "    s = [];\n",
    "\n",
    "    for i in range(n - 1, 0, -1) :\n",
    "\n",
    "        while (len(s) != 0 and s[-1] <= small[i]) :\n",
    "            s.pop();\n",
    "\n",
    "        if (len(s) != 0 and small[i] != -1 and s[-1] < arr[i]) :\n",
    "            return True;\n",
    "             \n",
    "        s.append(arr[i]);\n",
    " \n",
    "    return False;\n"
   ]
  },
  {
   "cell_type": "code",
   "execution_count": 15,
   "id": "58ab6fb8",
   "metadata": {},
   "outputs": [
    {
     "name": "stdout",
     "output_type": "stream",
     "text": [
      "True\n"
     ]
    }
   ],
   "source": [
    "arr = [ 4, 7, 11, 5, 13, 2 ];\n",
    "N = len(arr);\n",
    "if (recreationalSpot(arr, N)) :\n",
    "    print(\"True\");\n",
    "else :\n",
    "    print(\"False\");"
   ]
  },
  {
   "cell_type": "code",
   "execution_count": null,
   "id": "46c11f0f",
   "metadata": {},
   "outputs": [],
   "source": []
  }
 ],
 "metadata": {
  "kernelspec": {
   "display_name": "Python 3 (ipykernel)",
   "language": "python",
   "name": "python3"
  },
  "language_info": {
   "codemirror_mode": {
    "name": "ipython",
    "version": 3
   },
   "file_extension": ".py",
   "mimetype": "text/x-python",
   "name": "python",
   "nbconvert_exporter": "python",
   "pygments_lexer": "ipython3",
   "version": "3.9.13"
  }
 },
 "nbformat": 4,
 "nbformat_minor": 5
}
