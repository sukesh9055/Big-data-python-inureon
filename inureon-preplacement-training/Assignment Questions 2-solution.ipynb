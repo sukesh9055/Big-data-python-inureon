{
 "cells": [
  {
   "cell_type": "markdown",
   "id": "a1895195",
   "metadata": {},
   "source": [
    "Question 1\n",
    "\n",
    "Given an integer array nums of 2n integers, group these integers into n pairs (a1, b1), (a2, b2),..., (an, bn) such that the sum of min(ai, bi) for all i is maximized. Return the maximized sum."
   ]
  },
  {
   "cell_type": "code",
   "execution_count": 5,
   "id": "08a06941",
   "metadata": {},
   "outputs": [],
   "source": [
    "def arrayPairSum(nums):\n",
    "        \n",
    "        nums.sort()\n",
    "        result = 0\n",
    "        numsLen = len(nums)\n",
    "        for i in range(0, numsLen - 1, 2):\n",
    "            result += nums[i]\n",
    "            \n",
    "        return result"
   ]
  },
  {
   "cell_type": "code",
   "execution_count": 6,
   "id": "7009cbf8",
   "metadata": {},
   "outputs": [
    {
     "data": {
      "text/plain": [
       "4"
      ]
     },
     "execution_count": 6,
     "metadata": {},
     "output_type": "execute_result"
    }
   ],
   "source": [
    "nums = [1,4,3,2]\n",
    "arrayPairSum(nums)"
   ]
  },
  {
   "cell_type": "markdown",
   "id": "02f16162",
   "metadata": {},
   "source": [
    "Q2\n",
    "\n",
    "Alice has n candies, where the ith candy is of type candyType[i]. Alice noticed that she started to gain weight, so she visited a doctor. \n",
    "\n",
    "The doctor advised Alice to only eat n / 2 of the candies she has (n is always even). Alice likes her candies very much, and she wants to eat the maximum number of different types of candies while still following the doctor's advice. \n",
    "\n",
    "Given the integer array candyType of length n, return the maximum number of different types of candies she can eat if she only eats n / 2 of them."
   ]
  },
  {
   "cell_type": "code",
   "execution_count": 7,
   "id": "e1776d68",
   "metadata": {},
   "outputs": [],
   "source": [
    "def distributeCandies(candyType: list[int]) -> int:\n",
    "        return min(len(candyType)//2, len(set(candyType)))"
   ]
  },
  {
   "cell_type": "code",
   "execution_count": 8,
   "id": "922a7ec7",
   "metadata": {},
   "outputs": [
    {
     "data": {
      "text/plain": [
       "3"
      ]
     },
     "execution_count": 8,
     "metadata": {},
     "output_type": "execute_result"
    }
   ],
   "source": [
    "candyType = [1,1,2,2,3,3]\n",
    "distributeCandies(candyType)"
   ]
  },
  {
   "cell_type": "markdown",
   "id": "f91e3f44",
   "metadata": {},
   "source": [
    "q3   \n",
    "We define a harmonious array as an array where the difference between its maximum value\n",
    "and its minimum value is exactly 1.\n",
    "\n",
    "Given an integer array nums, return the length of its longest harmonious subsequence\n",
    "among all its possible subsequences.\n",
    "\n",
    "A subsequence of an array is a sequence that can be derived from the array by deleting some or no elements without changing the order of the remaining elements."
   ]
  },
  {
   "cell_type": "code",
   "execution_count": 13,
   "id": "c96c6731",
   "metadata": {},
   "outputs": [],
   "source": [
    "\n",
    "from collections import defaultdict"
   ]
  },
  {
   "cell_type": "code",
   "execution_count": 14,
   "id": "609a4b3b",
   "metadata": {},
   "outputs": [],
   "source": [
    "def findLHS(nums: list[int]) -> int:\n",
    "        numbers = defaultdict(int)\n",
    "        result = 0\n",
    "        for num in nums:\n",
    "            numbers[num] += 1\n",
    "        for num in numbers.keys():\n",
    "            if num+1 in numbers.keys():\n",
    "                result = max(result, numbers[num] + numbers[num+1])\n",
    "        return result"
   ]
  },
  {
   "cell_type": "code",
   "execution_count": 15,
   "id": "7e9ebc18",
   "metadata": {},
   "outputs": [
    {
     "data": {
      "text/plain": [
       "5"
      ]
     },
     "execution_count": 15,
     "metadata": {},
     "output_type": "execute_result"
    }
   ],
   "source": [
    "nums = [1,3,2,2,5,2,3,7]\n",
    "findLHS(nums)"
   ]
  },
  {
   "cell_type": "markdown",
   "id": "f28859c9",
   "metadata": {},
   "source": [
    "Question 4\n",
    "\n",
    "You have a long flowerbed in which some of the plots are planted, and some are not.\n",
    "However, flowers cannot be planted in adjacent plots.\n",
    "Given an integer array flowerbed containing 0's and 1's, where 0 means empty and 1 means not empty, and an integer n, return true if n new flowers can be planted in the flowerbed without violating the no-adjacent-flowers rule and false otherwise."
   ]
  },
  {
   "cell_type": "code",
   "execution_count": 21,
   "id": "529bc204",
   "metadata": {},
   "outputs": [],
   "source": [
    "def canPlaceFlowers(flowerbed: list[int], n: int) -> bool:\n",
    "        count = 0\n",
    "        flowerbed = [0] + flowerbed + [0]\n",
    "        for x in flowerbed:\n",
    "            if x == 0:\n",
    "                count += 1\n",
    "            else: \n",
    "                count = 0\n",
    "            if count == 3:\n",
    "                n -= 1\n",
    "                count = 1\n",
    "            if not n:\n",
    "                break\n",
    "        return not n"
   ]
  },
  {
   "cell_type": "code",
   "execution_count": 24,
   "id": "ee965648",
   "metadata": {},
   "outputs": [],
   "source": [
    "flowerbed = [1,0,0,0,1]\n",
    "n = 1"
   ]
  },
  {
   "cell_type": "code",
   "execution_count": 25,
   "id": "91504525",
   "metadata": {},
   "outputs": [
    {
     "data": {
      "text/plain": [
       "True"
      ]
     },
     "execution_count": 25,
     "metadata": {},
     "output_type": "execute_result"
    }
   ],
   "source": [
    "canPlaceFlowers(flowerbed,n)"
   ]
  },
  {
   "cell_type": "markdown",
   "id": "6dc279cf",
   "metadata": {},
   "source": [
    "Question 5\n",
    "\n",
    "Given an integer array nums, find three numbers whose product is maximum and return the maximum product."
   ]
  },
  {
   "cell_type": "code",
   "execution_count": 32,
   "id": "1fe597ac",
   "metadata": {},
   "outputs": [],
   "source": [
    "def maxprod(art:list[int]):\n",
    "    art.sort()\n",
    "    x=art[::-1]\n",
    "    return x[0]*x[1]*x[2]"
   ]
  },
  {
   "cell_type": "code",
   "execution_count": 33,
   "id": "976ad589",
   "metadata": {},
   "outputs": [
    {
     "data": {
      "text/plain": [
       "2808"
      ]
     },
     "execution_count": 33,
     "metadata": {},
     "output_type": "execute_result"
    }
   ],
   "source": [
    "nums = [1,2,3,78,9,4]\n",
    "maxprod(nums)"
   ]
  },
  {
   "cell_type": "markdown",
   "id": "1dbf1dde",
   "metadata": {},
   "source": [
    "Question 6\n",
    "\n",
    "Given an array of integers nums which is sorted in ascending order, and an integer target,\n",
    "write a function to search target in nums. If target exists, then return its index. Otherwise,\n",
    "return -1.\n",
    "\n",
    "You must write an algorithm with O(log n) runtime complexity.\n"
   ]
  },
  {
   "cell_type": "code",
   "execution_count": 43,
   "id": "4639f032",
   "metadata": {},
   "outputs": [],
   "source": [
    "def searchtar(num:list[int],k:int):\n",
    "    \n",
    "    for i in range(len(num)):\n",
    "        if num[i]==k:\n",
    "            return i\n",
    "    return -1\n",
    "       "
   ]
  },
  {
   "cell_type": "code",
   "execution_count": 44,
   "id": "3d38ad65",
   "metadata": {},
   "outputs": [
    {
     "data": {
      "text/plain": [
       "4"
      ]
     },
     "execution_count": 44,
     "metadata": {},
     "output_type": "execute_result"
    }
   ],
   "source": [
    "nums = [-1,0,3,5,9,12]\n",
    "k= 9\n",
    "searchtar(nums,k)"
   ]
  },
  {
   "cell_type": "markdown",
   "id": "4dbd42d7",
   "metadata": {},
   "source": [
    "Question 7\n",
    "\n",
    "An array is monotonic if it is either monotone increasing or monotone decreasing.\n",
    "\n",
    "An array nums is monotone increasing if for all i <= j, nums[i] <= nums[j]. An array nums is\n",
    "monotone decreasing if for all i <= j, nums[i] >= nums[j].\n",
    "\n",
    "Given an integer array nums, return true if the given array is monotonic, or false otherwise."
   ]
  },
  {
   "cell_type": "code",
   "execution_count": 46,
   "id": "bd041150",
   "metadata": {},
   "outputs": [],
   "source": [
    "def isMonotonic( A: list[int]) -> bool:\n",
    "        return sorted(A) in [A, A[::-1]]"
   ]
  },
  {
   "cell_type": "code",
   "execution_count": 47,
   "id": "39d8f4ac",
   "metadata": {},
   "outputs": [
    {
     "data": {
      "text/plain": [
       "True"
      ]
     },
     "execution_count": 47,
     "metadata": {},
     "output_type": "execute_result"
    }
   ],
   "source": [
    "nums = [1,2,2,3]\n",
    "isMonotonic(nums)"
   ]
  },
  {
   "cell_type": "markdown",
   "id": "9f08fdc1",
   "metadata": {},
   "source": [
    "Question 8\n",
    "\n",
    "You are given an integer array nums and an integer k.\n",
    "\n",
    "In one operation, you can choose any index i where 0 <= i < nums.length and change nums[i] to nums[i] + x where x is an integer from the range [-k, k]. You can apply this operation at most once for each index i.\n",
    "\n",
    "The score of nums is the difference between the maximum and minimum elements in nums.\n",
    "\n",
    "Return the minimum score of nums after applying the mentioned operation at most once for each index in it."
   ]
  },
  {
   "cell_type": "code",
   "execution_count": 50,
   "id": "b75aafd7",
   "metadata": {},
   "outputs": [],
   "source": [
    "def smallestRangeI( A: list[int], K: int) -> int:\n",
    "        A.sort()\n",
    "        if A[0] + K >= A[-1] - K:\n",
    "            return 0\n",
    "        return A[-1] - A[0] - K*2"
   ]
  },
  {
   "cell_type": "code",
   "execution_count": 53,
   "id": "2f3ab298",
   "metadata": {},
   "outputs": [
    {
     "data": {
      "text/plain": [
       "0"
      ]
     },
     "execution_count": 53,
     "metadata": {},
     "output_type": "execute_result"
    }
   ],
   "source": [
    "nums = [1]\n",
    "K = 0\n",
    "smallestRangeI(nums,K)"
   ]
  },
  {
   "cell_type": "code",
   "execution_count": null,
   "id": "1cae2181",
   "metadata": {},
   "outputs": [],
   "source": []
  }
 ],
 "metadata": {
  "kernelspec": {
   "display_name": "Python 3 (ipykernel)",
   "language": "python",
   "name": "python3"
  },
  "language_info": {
   "codemirror_mode": {
    "name": "ipython",
    "version": 3
   },
   "file_extension": ".py",
   "mimetype": "text/x-python",
   "name": "python",
   "nbconvert_exporter": "python",
   "pygments_lexer": "ipython3",
   "version": "3.9.13"
  }
 },
 "nbformat": 4,
 "nbformat_minor": 5
}
